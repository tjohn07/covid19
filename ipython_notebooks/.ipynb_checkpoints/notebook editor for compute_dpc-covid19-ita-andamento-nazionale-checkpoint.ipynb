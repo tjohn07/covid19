{
  "nbformat": 4,
  "nbformat_minor": 0,
  "metadata": {
    "kernelspec": {
      "display_name": "Python 3",
      "language": "python",
      "name": "python3"
    },
    "associatedRecipe": "compute_dpc-covid19-ita-andamento-nazionale",
    "creator": "admin",
    "createdOn": 1654269750184,
    "tags": [
      "recipe-editor"
    ],
    "customFields": {}
  },
  "cells": [
    {
      "cell_type": "code",
      "metadata": {},
      "outputs": [],
      "execution_count": 0,
      "source": [
        "# -*- coding: utf-8 -*-\n",
        "import dataiku\n",
        "import pandas as pd, numpy as np\n",
        "from dataiku import pandasutils as pdu\n",
        "\n",
        "# Read recipe inputs\n",
        "data_github \u003d dataiku.Folder(\"iQdwcZ0q\")\n",
        "data_github_info \u003d data_github.get_info()\n",
        "\n",
        "\n",
        "# Compute recipe outputs\n",
        "# TODO: Write here your actual code that computes the outputs\n",
        "# NB: DSS supports several kinds of APIs for reading and writing data. Please see doc.\n",
        "\n",
        "dpc_covid19_ita_andamento_nazionale_df \u003d ... # Compute a Pandas dataframe to write into dpc-covid19-ita-andamento-nazionale\n",
        "\n",
        "\n",
        "# Write recipe outputs\n",
        "dpc_covid19_ita_andamento_nazionale \u003d dataiku.Dataset(\"dpc-covid19-ita-andamento-nazionale\")\n",
        "dpc_covid19_ita_andamento_nazionale.write_with_schema(dpc_covid19_ita_andamento_nazionale_df)"
      ]
    }
  ]
}