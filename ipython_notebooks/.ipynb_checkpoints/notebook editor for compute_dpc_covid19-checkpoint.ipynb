{
  "nbformat": 4,
  "nbformat_minor": 0,
  "metadata": {
    "kernelspec": {
      "display_name": "Python 3",
      "language": "python",
      "name": "python3"
    },
    "associatedRecipe": "compute_dpc_covid19",
    "creator": "admin",
    "createdOn": 1654548041728,
    "tags": [
      "recipe-editor"
    ],
    "customFields": {}
  },
  "cells": [
    {
      "cell_type": "code",
      "metadata": {},
      "outputs": [],
      "execution_count": 0,
      "source": [
        "# -*- coding: utf-8 -*-\n",
        "import dataiku\n",
        "import pandas as pd, numpy as np\n",
        "from dataiku import pandasutils as pdu\n",
        "\n",
        "\n",
        "\n",
        "url \u003d \u0027https://raw.githubusercontent.com/pcm-dpc/COVID-19/master/dati-andamento-nazionale/dpc-covid19-ita-andamento-nazionale.csv\u0027\n",
        "df \u003d pd.read_csv(url, index_col\u003dNone)\n",
        "# print(df.head(5))"
      ]
    },
    {
      "cell_type": "code",
      "metadata": {},
      "outputs": [],
      "execution_count": 0,
      "source": [
        "dpc_covid19_ita_andamento_nazionale_df \u003d pd.DataFrame(df).reset_index()\n",
        "\n",
        "# Write recipe outputs\n",
        "dpc_covid19 \u003d dataiku.Dataset(\"dpc_covid19\")\n",
        "dpc_covid19.write_with_schema(dpc_covid19_df)"
      ]
    }
  ]
}