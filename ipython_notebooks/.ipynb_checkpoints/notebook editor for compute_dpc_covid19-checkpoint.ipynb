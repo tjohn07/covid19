{
  "nbformat": 4,
  "nbformat_minor": 0,
  "metadata": {
    "kernelspec": {
      "display_name": "Python (env python37_holidays)",
      "language": "python",
      "name": "py-dku-venv-python37_holidays"
    },
    "associatedRecipe": "compute_dpc_covid19",
    "dkuGit": {
      "lastInteraction": 0
    },
    "creationTag": {
      "versionNumber": 0,
      "lastModifiedBy": {
        "login": "admin"
      },
      "lastModifiedOn": 1654548041728
    },
    "creator": "admin",
    "createdOn": 1654548041728,
    "tags": [
      "recipe-editor"
    ],
    "customFields": {}
  },
  "cells": [
    {
      "cell_type": "code",
      "metadata": {},
      "outputs": [],
      "execution_count": 0,
      "source": [
        "# -*- coding: utf-8 -*-\n",
        "import dataiku\n",
        "import pandas as pd, numpy as np\n",
        "from dataiku import pandasutils as pdu"
      ]
    },
    {
      "cell_type": "code",
      "metadata": {},
      "outputs": [],
      "execution_count": 0,
      "source": [
        "url \u003d \u0027https://raw.githubusercontent.com/pcm-dpc/COVID-19/master/dati-andamento-nazionale/dpc-covid19-ita-andamento-nazionale.csv\u0027\n",
        "df \u003d pd.read_csv(url, index_col\u003dNone)"
      ]
    },
    {
      "cell_type": "code",
      "metadata": {},
      "outputs": [],
      "execution_count": 0,
      "source": [
        "dpc_covid19_ita_andamento_nazionale_df \u003d pd.DataFrame(df).reset_index()\n",
        "\n",
        "# Write recipe outputs\n",
        "dpc_covid19 \u003d dataiku.Dataset(\"dpc_covid19\")\n",
        "dpc_covid19.write_with_schema(dpc_covid19_ita_andamento_nazionale_df)"
      ]
    }
  ]
}