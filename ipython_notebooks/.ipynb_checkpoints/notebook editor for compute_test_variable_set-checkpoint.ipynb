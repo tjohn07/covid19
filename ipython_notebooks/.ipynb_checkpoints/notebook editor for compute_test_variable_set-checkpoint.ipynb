{
  "nbformat": 4,
  "nbformat_minor": 0,
  "metadata": {
    "kernelspec": {
      "display_name": "Python (env python37_holidays)",
      "language": "python",
      "name": "py-dku-venv-python37_holidays"
    },
    "associatedRecipe": "compute_test_variable_set",
    "dkuGit": {
      "lastInteraction": 0
    },
    "creationTag": {
      "versionNumber": 0,
      "lastModifiedBy": {
        "login": "admin"
      },
      "lastModifiedOn": 1654709825699
    },
    "creator": "admin",
    "createdOn": 1654709825699,
    "tags": [
      "recipe-editor"
    ],
    "customFields": {}
  },
  "cells": [
    {
      "cell_type": "code",
      "metadata": {},
      "outputs": [],
      "execution_count": 0,
      "source": [
        "# -*- coding: utf-8 -*-\n",
        "import dataiku\n",
        "import pandas as pd, numpy as np\n",
        "from dataiku import pandasutils as pdu\n",
        "from dataiku.scenario import Trigger\n",
        "\n",
        "\n",
        "# Accessing the DSS Global/Project Variables\n",
        "proj \u003d dataiku.Project()\n",
        "variables \u003d proj.get_variables()"
      ]
    },
    {
      "cell_type": "code",
      "metadata": {},
      "outputs": [],
      "execution_count": 0,
      "source": [
        "ntile10_dataset \u003d dataiku.Dataset(\"dpc_covid19_prepared_windows_by_ntile10\")\n",
        "dpc_dataset \u003d dataiku.Dataset(\"dpc_covid19_prepared\")"
      ]
    },
    {
      "cell_type": "code",
      "metadata": {},
      "outputs": [],
      "execution_count": 0,
      "source": [
        "ntile10_df \u003d ntile10_dataset.get_dataframe()\n",
        "dpc_df \u003d dpc_dataset.get_dataframe()"
      ]
    },
    {
      "cell_type": "code",
      "metadata": {},
      "outputs": [],
      "execution_count": 0,
      "source": [
        "ntile10_df.head()"
      ]
    },
    {
      "cell_type": "code",
      "metadata": {},
      "outputs": [],
      "execution_count": 0,
      "source": [
        "dpc_df.head()"
      ]
    },
    {
      "cell_type": "code",
      "metadata": {},
      "outputs": [],
      "execution_count": 0,
      "source": [
        "#Set variables for ntile ranges in order to compare to other dataset\n",
        "for num in range(1,11):\n",
        "    variables[\"standard\"][f\u0027n{num}\u0027] \u003d range(int(ntile10_df[\u0027nuovi_positivi_min\u0027][ntile10_df[\u0027ntile10\u0027] \u003d\u003d num]), int(ntile10_df[\u0027nuovi_positivi_max\u0027][ntile10_df[\u0027ntile10\u0027] \u003d\u003d num]))"
      ]
    },
    {
      "cell_type": "code",
      "metadata": {},
      "outputs": [],
      "execution_count": 0,
      "source": [
        "variables[\"standard\"]"
      ]
    },
    {
      "cell_type": "code",
      "metadata": {},
      "outputs": [],
      "execution_count": 0,
      "source": [
        "# 79 in variables[\"standard\"][\u0027n1\u0027]"
      ]
    },
    {
      "cell_type": "code",
      "metadata": {},
      "outputs": [],
      "execution_count": 0,
      "source": [
        "ntile_dict \u003d {}\n",
        "for row in dpc_df[\u0027nuovi_positivi\u0027]:\n",
        "    for ntile in range(1,11):\n",
        "        if row in variables[\"standard\"][f\u0027n{ntile}\u0027]:\n",
        "            ntile_dict[row] \u003d int(ntile)"
      ]
    },
    {
      "cell_type": "code",
      "metadata": {},
      "outputs": [],
      "execution_count": 0,
      "source": [
        "dpc_df[\u0027ntile\u0027] \u003d dpc_df[\u0027nuovi_positivi\u0027].map(ntile_dict)"
      ]
    },
    {
      "cell_type": "code",
      "metadata": {},
      "outputs": [],
      "execution_count": 0,
      "source": [
        "test_variable_set \u003d dataiku.Dataset(\"test_variable_set\")\n",
        "test_variable_set.write_with_schema(dpc_df)"
      ]
    }
  ]
}