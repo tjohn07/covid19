{
  "nbformat": 4,
  "nbformat_minor": 0,
  "metadata": {
    "kernelspec": {
      "display_name": "Python 3",
      "language": "python",
      "name": "python3"
    },
    "associatedRecipe": "compute_dati_province_holidays",
    "creator": "admin",
    "createdOn": 1654553925820,
    "tags": [
      "recipe-editor"
    ],
    "customFields": {}
  },
  "cells": [
    {
      "cell_type": "code",
      "metadata": {},
      "outputs": [],
      "execution_count": 0,
      "source": [
        "# -*- coding: utf-8 -*-\n",
        "import dataiku\n",
        "import pandas as pd, numpy as np\n",
        "from dataiku import pandasutils as pdu\n",
        "\n",
        "# Read recipe inputs\n",
        "dati_province_prepared \u003d dataiku.Dataset(\"dati_province_prepared\")\n",
        "dati_province_prepared_df \u003d dati_province_prepared.get_dataframe()\n",
        "\n",
        "\n",
        "# Compute recipe outputs from inputs\n",
        "# TODO: Replace this part by your actual code that computes the output, as a Pandas dataframe\n",
        "# NB: DSS also supports other kinds of APIs for reading and writing data. Please see doc.\n",
        "\n",
        "dati_province_holidays_df \u003d dati_province_prepared_df # For this sample code, simply copy input to output\n",
        "\n",
        "\n",
        "# Write recipe outputs\n",
        "dati_province_holidays \u003d dataiku.Dataset(\"dati_province_holidays\")\n",
        "dati_province_holidays.write_with_schema(dati_province_holidays_df)"
      ]
    }
  ]
}