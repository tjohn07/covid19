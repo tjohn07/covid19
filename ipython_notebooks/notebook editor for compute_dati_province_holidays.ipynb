{
  "metadata": {
    "kernelspec": {
      "display_name": "Python (env python37_holidays)",
      "language": "python",
      "name": "py-dku-venv-python37_holidays"
    },
    "dkuGit": {
      "lastInteraction": 0
    },
    "creationTag": {
      "versionNumber": 0,
      "lastModifiedBy": {
        "login": "admin"
      },
      "lastModifiedOn": 1654553925820
    },
    "creator": "admin",
    "createdOn": 1654553925820,
    "tags": [
      "deleted-recipe-editor"
    ],
    "customFields": {}
  },
  "nbformat": 4,
  "nbformat_minor": 0,
  "cells": [
    {
      "execution_count": 0,
      "cell_type": "code",
      "metadata": {},
      "source": [
        "# -*- coding: utf-8 -*-\n",
        "import dataiku\n",
        "import pandas as pd, numpy as np\n",
        "from dataiku import pandasutils as pdu\n",
        "import holidays"
      ],
      "outputs": []
    },
    {
      "execution_count": 0,
      "cell_type": "code",
      "metadata": {},
      "source": [
        "it_holidays \u003d holidays.Italy(years\u003d[2019, 2020, 2021, 2022])"
      ],
      "outputs": []
    },
    {
      "execution_count": 0,
      "cell_type": "code",
      "metadata": {},
      "source": [
        "# Read recipe inputs\n",
        "dati_province_prepared \u003d dataiku.Dataset(\"dati_province_prepared\")\n",
        "dati_province_prepared_df \u003d dati_province_prepared.get_dataframe()"
      ],
      "outputs": []
    },
    {
      "execution_count": 0,
      "cell_type": "code",
      "metadata": {},
      "source": [
        "dati_province_prepared_df.head()"
      ],
      "outputs": []
    },
    {
      "execution_count": 0,
      "cell_type": "code",
      "metadata": {},
      "source": [
        "for date in it_holidays.items():\n",
        "    print(date)"
      ],
      "outputs": []
    },
    {
      "execution_count": 0,
      "cell_type": "code",
      "metadata": {},
      "source": [
        "dati_province_prepared_df[\u0027data\u0027] in it_holidays"
      ],
      "outputs": []
    },
    {
      "execution_count": 0,
      "cell_type": "code",
      "metadata": {},
      "source": [
        "for row in dati_province_prepared_df[\u0027data\u0027]:\n",
        "    if row in it_holidays:\n",
        "        print(row)\n",
        "        dati_province_prepared_df[\u0027holiday\u0027] \u003d 1\n",
        "#     else:\n",
        "#         dati_province_prepared_df[\u0027holiday\u0027] \u003d 0"
      ],
      "outputs": []
    },
    {
      "execution_count": 0,
      "cell_type": "code",
      "metadata": {},
      "source": [
        "dati_province_prepared_df[\u0027holiday\u0027].value_counts()"
      ],
      "outputs": []
    },
    {
      "execution_count": 0,
      "cell_type": "code",
      "metadata": {},
      "source": [
        "dati_province_prepared_df.info()"
      ],
      "outputs": []
    },
    {
      "execution_count": 0,
      "cell_type": "code",
      "metadata": {},
      "source": [
        "# Compute recipe outputs from inputs\n",
        "# TODO: Replace this part by your actual code that computes the output, as a Pandas dataframe\n",
        "# NB: DSS also supports other kinds of APIs for reading and writing data. Please see doc.\n",
        "\n",
        "dati_province_holidays_df"
      ],
      "outputs": []
    },
    {
      "execution_count": 0,
      "cell_type": "code",
      "metadata": {},
      "source": [
        "# Write recipe outputs\n",
        "dati_province_holidays \u003d dataiku.Dataset(\"dati_province_holidays\")\n",
        "dati_province_holidays.write_with_schema(dati_province_holidays_df)"
      ],
      "outputs": []
    }
  ]
}