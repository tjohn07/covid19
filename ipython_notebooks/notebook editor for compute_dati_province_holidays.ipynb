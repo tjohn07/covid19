{
  "nbformat": 4,
  "nbformat_minor": 0,
  "metadata": {
    "kernelspec": {
      "display_name": "Python (env python37_holidays)",
      "language": "python",
      "name": "py-dku-venv-python37_holidays"
    },
    "associatedRecipe": "compute_dati_province_holidays",
    "dkuGit": {
      "lastInteraction": 0
    },
    "creationTag": {
      "versionNumber": 0,
      "lastModifiedBy": {
        "login": "admin"
      },
      "lastModifiedOn": 1654553925820
    },
    "creator": "admin",
    "createdOn": 1654553925820,
    "tags": [
      "recipe-editor"
    ],
    "customFields": {}
  },
  "cells": [
    {
      "cell_type": "code",
      "metadata": {},
      "outputs": [],
      "execution_count": 0,
      "source": [
        "# -*- coding: utf-8 -*-\n",
        "import dataiku\n",
        "import pandas as pd, numpy as np\n",
        "from dataiku import pandasutils as pdu\n",
        "import holidays"
      ]
    },
    {
      "cell_type": "code",
      "metadata": {},
      "outputs": [],
      "execution_count": 0,
      "source": [
        "# Read recipe inputs\n",
        "dati_province_prepared \u003d dataiku.Dataset(\"dati_province_prepared\")\n",
        "dati_province_prepared_df \u003d dati_province_prepared.get_dataframe()"
      ]
    },
    {
      "cell_type": "code",
      "metadata": {},
      "outputs": [],
      "execution_count": 0,
      "source": [
        "# Compute recipe outputs from inputs\n",
        "# TODO: Replace this part by your actual code that computes the output, as a Pandas dataframe\n",
        "# NB: DSS also supports other kinds of APIs for reading and writing data. Please see doc.\n",
        "\n",
        "dati_province_holidays_df \u003d dati_province_prepared_df # For this sample code, simply copy input to output"
      ]
    },
    {
      "cell_type": "code",
      "metadata": {},
      "outputs": [],
      "execution_count": 0,
      "source": [
        "# Write recipe outputs\n",
        "dati_province_holidays \u003d dataiku.Dataset(\"dati_province_holidays\")\n",
        "dati_province_holidays.write_with_schema(dati_province_holidays_df)"
      ]
    }
  ]
}