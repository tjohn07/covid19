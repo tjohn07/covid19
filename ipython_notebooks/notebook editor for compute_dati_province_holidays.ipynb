{
  "metadata": {
    "kernelspec": {
      "name": "py-dku-venv-python37_holidays",
      "display_name": "Python (env python37_holidays)",
      "language": "python"
    },
    "associatedRecipe": "compute_dati_province_holidays",
    "dkuGit": {
      "lastInteraction": 0
    },
    "creationTag": {
      "versionNumber": 0,
      "lastModifiedBy": {
        "login": "admin"
      },
      "lastModifiedOn": 1654553925820
    },
    "creator": "admin",
    "createdOn": 1654553925820,
    "tags": [
      "recipe-editor"
    ],
    "customFields": {},
    "hide_input": false,
    "language_info": {
      "name": "python",
      "version": "3.7.9",
      "mimetype": "text/x-python",
      "codemirror_mode": {
        "name": "ipython",
        "version": 3
      },
      "pygments_lexer": "ipython3",
      "nbconvert_exporter": "python",
      "file_extension": ".py"
    },
    "modifiedBy": "admin"
  },
  "nbformat": 4,
  "nbformat_minor": 1,
  "cells": [
    {
      "execution_count": 1,
      "cell_type": "code",
      "metadata": {},
      "source": [
        "# -*- coding: utf-8 -*-\nimport dataiku\nimport pandas as pd, numpy as np\nfrom dataiku import pandasutils as pdu\nimport holidays"
      ],
      "outputs": []
    },
    {
      "execution_count": 22,
      "cell_type": "code",
      "metadata": {},
      "source": [
        "it_holidays \u003d holidays.Italy(years\u003d[2019, 2020, 2021, 2022])"
      ],
      "outputs": []
    },
    {
      "execution_count": 10,
      "cell_type": "code",
      "metadata": {},
      "source": [
        ""
      ],
      "outputs": [
        {
          "output_type": "execute_result",
          "execution_count": 10,
          "data": {
            "text/plain": "\u0027Capodanno\u0027"
          },
          "metadata": {}
        }
      ]
    },
    {
      "execution_count": 12,
      "cell_type": "code",
      "metadata": {},
      "source": [
        "# Read recipe inputs\ndati_province_prepared \u003d dataiku.Dataset(\"dati_province_prepared\")\ndati_province_prepared_df \u003d dati_province_prepared.get_dataframe()"
      ],
      "outputs": [
        {
          "output_type": "stream",
          "text": "/Users/terrijohn/Library/dss/design/code-envs/python/python37_holidays/lib/python3.7/site-packages/pandas/core/indexes/base.py:395: DeprecationWarning: `np.bool` is a deprecated alias for the builtin `bool`. To silence this warning, use `bool` by itself. Doing this will not modify any behavior and is safe. If you specifically wanted the numpy scalar type, use `np.bool_` here.\nDeprecated in NumPy 1.20; for more details and guidance: https://numpy.org/devdocs/release/1.20.0-notes.html#deprecations\n  elif issubclass(data.dtype.type, np.bool) or is_bool_dtype(data):\n",
          "name": "stderr"
        }
      ]
    },
    {
      "execution_count": 14,
      "cell_type": "code",
      "metadata": {},
      "source": [
        "dati_province_prepared_df.head()"
      ],
      "outputs": [
        {
          "output_type": "execute_result",
          "execution_count": 14,
          "data": {
            "text/plain": "                       data stato  codice_regione denominazione_regione  codice_provincia               denominazione_provincia        lat       long  totale_casi                        geopoint\n0 2020-02-24 18:00:00+00:00   ITA              13               Abruzzo                66                              L\u0027Aquila  42.351222  13.398438            0  POINT(13.39843823 42.35122196)\n1 2020-02-24 18:00:00+00:00   ITA              13               Abruzzo                67                                Teramo  42.658918  13.704400            0   POINT(13.70439971 42.6589177)\n2 2020-02-24 18:00:00+00:00   ITA              13               Abruzzo                68                               Pescara  42.464584  14.213648            0  POINT(14.21364822 42.46458398)\n3 2020-02-24 18:00:00+00:00   ITA              13               Abruzzo                69                                Chieti  42.351032  14.167546            0  POINT(14.16754574 42.35103167)\n4 2020-02-24 18:00:00+00:00   ITA              13               Abruzzo               979  In fase di definizione/aggiornamento        NaN        NaN            0                             NaN",
            "text/html": "\u003cdiv\u003e\n\u003cstyle scoped\u003e\n    .dataframe tbody tr th:only-of-type {\n        vertical-align: middle;\n    }\n\n    .dataframe tbody tr th {\n        vertical-align: top;\n    }\n\n    .dataframe thead th {\n        text-align: right;\n    }\n\u003c/style\u003e\n\u003ctable border\u003d\"1\" class\u003d\"dataframe\"\u003e\n  \u003cthead\u003e\n    \u003ctr style\u003d\"text-align: right;\"\u003e\n      \u003cth\u003e\u003c/th\u003e\n      \u003cth\u003edata\u003c/th\u003e\n      \u003cth\u003estato\u003c/th\u003e\n      \u003cth\u003ecodice_regione\u003c/th\u003e\n      \u003cth\u003edenominazione_regione\u003c/th\u003e\n      \u003cth\u003ecodice_provincia\u003c/th\u003e\n      \u003cth\u003edenominazione_provincia\u003c/th\u003e\n      \u003cth\u003elat\u003c/th\u003e\n      \u003cth\u003elong\u003c/th\u003e\n      \u003cth\u003etotale_casi\u003c/th\u003e\n      \u003cth\u003egeopoint\u003c/th\u003e\n    \u003c/tr\u003e\n  \u003c/thead\u003e\n  \u003ctbody\u003e\n    \u003ctr\u003e\n      \u003cth\u003e0\u003c/th\u003e\n      \u003ctd\u003e2020-02-24 18:00:00+00:00\u003c/td\u003e\n      \u003ctd\u003eITA\u003c/td\u003e\n      \u003ctd\u003e13\u003c/td\u003e\n      \u003ctd\u003eAbruzzo\u003c/td\u003e\n      \u003ctd\u003e66\u003c/td\u003e\n      \u003ctd\u003eL\u0027Aquila\u003c/td\u003e\n      \u003ctd\u003e42.351222\u003c/td\u003e\n      \u003ctd\u003e13.398438\u003c/td\u003e\n      \u003ctd\u003e0\u003c/td\u003e\n      \u003ctd\u003ePOINT(13.39843823 42.35122196)\u003c/td\u003e\n    \u003c/tr\u003e\n    \u003ctr\u003e\n      \u003cth\u003e1\u003c/th\u003e\n      \u003ctd\u003e2020-02-24 18:00:00+00:00\u003c/td\u003e\n      \u003ctd\u003eITA\u003c/td\u003e\n      \u003ctd\u003e13\u003c/td\u003e\n      \u003ctd\u003eAbruzzo\u003c/td\u003e\n      \u003ctd\u003e67\u003c/td\u003e\n      \u003ctd\u003eTeramo\u003c/td\u003e\n      \u003ctd\u003e42.658918\u003c/td\u003e\n      \u003ctd\u003e13.704400\u003c/td\u003e\n      \u003ctd\u003e0\u003c/td\u003e\n      \u003ctd\u003ePOINT(13.70439971 42.6589177)\u003c/td\u003e\n    \u003c/tr\u003e\n    \u003ctr\u003e\n      \u003cth\u003e2\u003c/th\u003e\n      \u003ctd\u003e2020-02-24 18:00:00+00:00\u003c/td\u003e\n      \u003ctd\u003eITA\u003c/td\u003e\n      \u003ctd\u003e13\u003c/td\u003e\n      \u003ctd\u003eAbruzzo\u003c/td\u003e\n      \u003ctd\u003e68\u003c/td\u003e\n      \u003ctd\u003ePescara\u003c/td\u003e\n      \u003ctd\u003e42.464584\u003c/td\u003e\n      \u003ctd\u003e14.213648\u003c/td\u003e\n      \u003ctd\u003e0\u003c/td\u003e\n      \u003ctd\u003ePOINT(14.21364822 42.46458398)\u003c/td\u003e\n    \u003c/tr\u003e\n    \u003ctr\u003e\n      \u003cth\u003e3\u003c/th\u003e\n      \u003ctd\u003e2020-02-24 18:00:00+00:00\u003c/td\u003e\n      \u003ctd\u003eITA\u003c/td\u003e\n      \u003ctd\u003e13\u003c/td\u003e\n      \u003ctd\u003eAbruzzo\u003c/td\u003e\n      \u003ctd\u003e69\u003c/td\u003e\n      \u003ctd\u003eChieti\u003c/td\u003e\n      \u003ctd\u003e42.351032\u003c/td\u003e\n      \u003ctd\u003e14.167546\u003c/td\u003e\n      \u003ctd\u003e0\u003c/td\u003e\n      \u003ctd\u003ePOINT(14.16754574 42.35103167)\u003c/td\u003e\n    \u003c/tr\u003e\n    \u003ctr\u003e\n      \u003cth\u003e4\u003c/th\u003e\n      \u003ctd\u003e2020-02-24 18:00:00+00:00\u003c/td\u003e\n      \u003ctd\u003eITA\u003c/td\u003e\n      \u003ctd\u003e13\u003c/td\u003e\n      \u003ctd\u003eAbruzzo\u003c/td\u003e\n      \u003ctd\u003e979\u003c/td\u003e\n      \u003ctd\u003eIn fase di definizione/aggiornamento\u003c/td\u003e\n      \u003ctd\u003eNaN\u003c/td\u003e\n      \u003ctd\u003eNaN\u003c/td\u003e\n      \u003ctd\u003e0\u003c/td\u003e\n      \u003ctd\u003eNaN\u003c/td\u003e\n    \u003c/tr\u003e\n  \u003c/tbody\u003e\n\u003c/table\u003e\n\u003c/div\u003e"
          },
          "metadata": {}
        }
      ]
    },
    {
      "execution_count": 21,
      "cell_type": "code",
      "metadata": {},
      "source": [
        "for date in it_holidays.items():\n    print(date)"
      ],
      "outputs": [
        {
          "output_type": "stream",
          "text": "(datetime.date(1970, 1, 1), \u0027Capodanno\u0027)\n(datetime.date(1970, 1, 6), \u0027Epifania del Signore\u0027)\n(datetime.date(1970, 3, 29), \u0027Pasqua di Resurrezione\u0027)\n(datetime.date(1970, 3, 30), \"Lunedì dell\u0027Angelo\")\n(datetime.date(1970, 4, 25), \u0027Festa della Liberazione\u0027)\n(datetime.date(1970, 5, 1), \u0027Festa dei Lavoratori\u0027)\n(datetime.date(1970, 6, 2), \u0027Festa della Repubblica\u0027)\n(datetime.date(1970, 8, 15), \u0027Assunzione della Vergine\u0027)\n(datetime.date(1970, 11, 1), \u0027Tutti i Santi\u0027)\n(datetime.date(1970, 12, 8), \u0027Immacolata Concezione\u0027)\n(datetime.date(1970, 12, 25), \u0027Natale\u0027)\n(datetime.date(1970, 12, 26), \u0027Santo Stefano\u0027)\n",
          "name": "stdout"
        }
      ]
    },
    {
      "execution_count": 13,
      "cell_type": "code",
      "metadata": {},
      "source": [
        "# Compute recipe outputs from inputs\n# TODO: Replace this part by your actual code that computes the output, as a Pandas dataframe\n# NB: DSS also supports other kinds of APIs for reading and writing data. Please see doc.\n\ndati_province_holidays_df"
      ],
      "outputs": [
        {
          "output_type": "error",
          "ename": "NameError",
          "evalue": "name \u0027dati_province_holidays_df\u0027 is not defined",
          "traceback": [
            "\u001b[0;31m---------------------------------------------------------------------------\u001b[0m",
            "\u001b[0;31mNameError\u001b[0m                                 Traceback (most recent call last)",
            "\u001b[0;32m\u003cipython-input-13-0ca89006f546\u003e\u001b[0m in \u001b[0;36m\u003cmodule\u003e\u001b[0;34m\u001b[0m\n\u001b[1;32m      3\u001b[0m \u001b[0;31m# NB: DSS also supports other kinds of APIs for reading and writing data. Please see doc.\u001b[0m\u001b[0;34m\u001b[0m\u001b[0;34m\u001b[0m\u001b[0;34m\u001b[0m\u001b[0m\n\u001b[1;32m      4\u001b[0m \u001b[0;34m\u001b[0m\u001b[0m\n\u001b[0;32m----\u003e 5\u001b[0;31m \u001b[0mdati_province_holidays_df\u001b[0m\u001b[0;34m.\u001b[0m\u001b[0mhead\u001b[0m\u001b[0;34m(\u001b[0m\u001b[0;34m)\u001b[0m\u001b[0;34m\u001b[0m\u001b[0;34m\u001b[0m\u001b[0m\n\u001b[0m",
            "\u001b[0;31mNameError\u001b[0m: name \u0027dati_province_holidays_df\u0027 is not defined"
          ]
        }
      ]
    },
    {
      "execution_count": 0,
      "cell_type": "code",
      "metadata": {},
      "source": [
        "# Write recipe outputs\ndati_province_holidays \u003d dataiku.Dataset(\"dati_province_holidays\")\ndati_province_holidays.write_with_schema(dati_province_holidays_df)"
      ],
      "outputs": []
    }
  ]
}