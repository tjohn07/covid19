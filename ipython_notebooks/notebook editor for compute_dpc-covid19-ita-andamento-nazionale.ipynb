{
  "metadata": {
    "kernelspec": {
      "name": "python3",
      "display_name": "Python 3",
      "language": "python"
    },
    "associatedRecipe": "compute_dpc-covid19-ita-andamento-nazionale",
    "dkuGit": {
      "lastInteraction": 0
    },
    "creationTag": {
      "versionNumber": 0,
      "lastModifiedBy": {
        "login": "admin"
      },
      "lastModifiedOn": 1654269750184
    },
    "creator": "admin",
    "createdOn": 1654269750184,
    "tags": [
      "recipe-editor"
    ],
    "customFields": {},
    "hide_input": false,
    "language_info": {
      "name": "python",
      "version": "3.7.9",
      "mimetype": "text/x-python",
      "codemirror_mode": {
        "name": "ipython",
        "version": 3
      },
      "pygments_lexer": "ipython3",
      "nbconvert_exporter": "python",
      "file_extension": ".py"
    },
    "modifiedBy": "admin"
  },
  "nbformat": 4,
  "nbformat_minor": 1,
  "cells": [
    {
      "execution_count": 76,
      "cell_type": "code",
      "metadata": {},
      "source": [
        "# -*- coding: utf-8 -*-\nimport dataiku\nimport pandas as pd, numpy as np\nfrom dataiku import pandasutils as pdu\n"
      ],
      "outputs": []
    },
    {
      "execution_count": 77,
      "cell_type": "code",
      "metadata": {},
      "source": [
        "# Read recipe inputs\ndata_github \u003d dataiku.Folder(\"iQdwcZ0q\")\ndata_github_info \u003d data_github.get_info()"
      ],
      "outputs": []
    },
    {
      "execution_count": 78,
      "cell_type": "code",
      "metadata": {},
      "source": [
        "url_dict \u003d {\n   \"https://raw.githubusercontent.com/pcm-dpc/COVID-19/master/dati-andamento-nazionale/dpc-covid19-ita-andamento-nazionale.csv\": \"dpc_covid19_ita_andamento_nazionale\"  \n}"
      ],
      "outputs": []
    },
    {
      "execution_count": 87,
      "cell_type": "code",
      "metadata": {
        "scrolled": true
      },
      "source": [
        "for k, v in url_dict.items():\n    csv_name_title \u003d v\n    csv_name \u003d v\n    url \u003d k\n    data \u003d pd.read_csv(url, index_col\u003dNone)\n    csv_name_title \u003d pd.DataFrame(data).reset_index()\n#     print(dataiku.Dataset(df))\n#     print(csv_name)\n#     print(url)\n#     print(df)\n#     dpc_covid19_ita_andamento_nazionale \u003d dataiku.Dataset(df)\n    # dpc_covid19_ita_andamento_nazionale \u003d dataiku.Dataset(\"dpc-covid19-ita-andamento-nazionale\")\n#     df.write_with_schema(dpc_covid19_ita_andamento_nazionale_df)\n#     csv_name.write_with_schema(final_df)"
      ],
      "outputs": []
    },
    {
      "execution_count": 90,
      "cell_type": "code",
      "metadata": {},
      "source": [
        "dpc_covid19_ita_andamento_nazionale"
      ],
      "outputs": [
        {
          "output_type": "execute_result",
          "execution_count": 90,
          "data": {
            "text/plain": "\u003cdataiku.core.dataset.Dataset at 0x7f7d50e1f390\u003e",
            "text/html": "Dataset[   \u003cb\u003eITALYCOVID19.dpc-covid19-ita-andamento-nazionale\u003c/b\u003e   ]\u003c/br\u003e\u003ctable\u003e\u003ctr\u003e\u003cth\u003eColumn\u003c/th\u003e\u003cth\u003eType\u003c/th\u003e\u003c/tr\u003e\u003ctr\u003e\u003ctd\u003eindex\u003c/td\u003e\u003ctd\u003ebigint\u003c/td\u003e\u003c/tr\u003e\u003ctr\u003e\u003ctd\u003edata\u003c/td\u003e\u003ctd\u003estring\u003c/td\u003e\u003c/tr\u003e\u003ctr\u003e\u003ctd\u003estato\u003c/td\u003e\u003ctd\u003estring\u003c/td\u003e\u003c/tr\u003e\u003ctr\u003e\u003ctd\u003ericoverati_con_sintomi\u003c/td\u003e\u003ctd\u003ebigint\u003c/td\u003e\u003c/tr\u003e\u003ctr\u003e\u003ctd\u003eterapia_intensiva\u003c/td\u003e\u003ctd\u003ebigint\u003c/td\u003e\u003c/tr\u003e\u003ctr\u003e\u003ctd\u003etotale_ospedalizzati\u003c/td\u003e\u003ctd\u003ebigint\u003c/td\u003e\u003c/tr\u003e\u003ctr\u003e\u003ctd\u003eisolamento_domiciliare\u003c/td\u003e\u003ctd\u003ebigint\u003c/td\u003e\u003c/tr\u003e\u003ctr\u003e\u003ctd\u003etotale_positivi\u003c/td\u003e\u003ctd\u003ebigint\u003c/td\u003e\u003c/tr\u003e\u003ctr\u003e\u003ctd\u003evariazione_totale_positivi\u003c/td\u003e\u003ctd\u003ebigint\u003c/td\u003e\u003c/tr\u003e\u003ctr\u003e\u003ctd\u003enuovi_positivi\u003c/td\u003e\u003ctd\u003ebigint\u003c/td\u003e\u003c/tr\u003e\u003ctr\u003e\u003ctd\u003edimessi_guariti\u003c/td\u003e\u003ctd\u003ebigint\u003c/td\u003e\u003c/tr\u003e\u003ctr\u003e\u003ctd\u003edeceduti\u003c/td\u003e\u003ctd\u003ebigint\u003c/td\u003e\u003c/tr\u003e\u003ctr\u003e\u003ctd\u003ecasi_da_sospetto_diagnostico\u003c/td\u003e\u003ctd\u003edouble\u003c/td\u003e\u003c/tr\u003e\u003ctr\u003e\u003ctd\u003ecasi_da_screening\u003c/td\u003e\u003ctd\u003edouble\u003c/td\u003e\u003c/tr\u003e\u003ctr\u003e\u003ctd\u003etotale_casi\u003c/td\u003e\u003ctd\u003ebigint\u003c/td\u003e\u003c/tr\u003e\u003ctr\u003e\u003ctd\u003etamponi\u003c/td\u003e\u003ctd\u003ebigint\u003c/td\u003e\u003c/tr\u003e\u003ctr\u003e\u003ctd\u003ecasi_testati\u003c/td\u003e\u003ctd\u003edouble\u003c/td\u003e\u003c/tr\u003e\u003ctr\u003e\u003ctd\u003enote\u003c/td\u003e\u003ctd\u003estring\u003c/td\u003e\u003c/tr\u003e\u003ctr\u003e\u003ctd\u003eingressi_terapia_intensiva\u003c/td\u003e\u003ctd\u003edouble\u003c/td\u003e\u003c/tr\u003e\u003ctr\u003e\u003ctd\u003enote_test\u003c/td\u003e\u003ctd\u003edouble\u003c/td\u003e\u003c/tr\u003e\u003ctr\u003e\u003ctd\u003enote_casi\u003c/td\u003e\u003ctd\u003edouble\u003c/td\u003e\u003c/tr\u003e\u003ctr\u003e\u003ctd\u003etotale_positivi_test_molecolare\u003c/td\u003e\u003ctd\u003edouble\u003c/td\u003e\u003c/tr\u003e\u003ctr\u003e\u003ctd\u003etotale_positivi_test_antigenico_rapido\u003c/td\u003e\u003ctd\u003edouble\u003c/td\u003e\u003c/tr\u003e\u003ctr\u003e\u003ctd\u003etamponi_test_molecolare\u003c/td\u003e\u003ctd\u003edouble\u003c/td\u003e\u003c/tr\u003e\u003ctr\u003e\u003ctd\u003etamponi_test_antigenico_rapido\u003c/td\u003e\u003ctd\u003edouble\u003c/td\u003e\u003c/tr\u003e\u003c/table\u003e"
          },
          "metadata": {}
        }
      ]
    },
    {
      "execution_count": 61,
      "cell_type": "code",
      "metadata": {},
      "source": [
        "# csv_name \u003d dataiku.get_custom_variables()[\"csv_name\"]\n# url \u003d dataiku.get_custom_variables()[\"url\"]"
      ],
      "outputs": []
    },
    {
      "execution_count": 65,
      "cell_type": "code",
      "metadata": {},
      "source": [
        "# url \u003d \u0027https://raw.githubusercontent.com/pcm-dpc/COVID-19/master/dati-andamento-nazionale/dpc-covid19-ita-andamento-nazionale.csv\u0027\n# data \u003d pd.read_csv(url, index_col\u003dNone)\n# print(df.head(5))"
      ],
      "outputs": []
    },
    {
      "execution_count": 0,
      "cell_type": "code",
      "metadata": {},
      "source": [
        "# dpc_covid19_ita_andamento_nazionale_df \u003d pd.DataFrame(df).reset_index()"
      ],
      "outputs": []
    },
    {
      "execution_count": 0,
      "cell_type": "code",
      "metadata": {},
      "source": [
        "# Compute recipe outputs\n# TODO: Write here your actual code that computes the outputs\n# NB: DSS supports several kinds of APIs for reading and writing data. Please see doc.\n\n\n# Write recipe outputs\n# dpc_covid19_ita_andamento_nazionale \u003d dataiku.Dataset(\"dpc-covid19-ita-andamento-nazionale\")\n# dpc_covid19_ita_andamento_nazionale.write_with_schema(dpc_covid19_ita_andamento_nazionale_df)"
      ],
      "outputs": []
    }
  ]
}