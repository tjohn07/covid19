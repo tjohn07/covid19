{
  "metadata": {
    "kernelspec": {
      "name": "python3",
      "display_name": "Python 3",
      "language": "python"
    },
    "associatedRecipe": "compute_dpc-covid19-ita-andamento-nazionale",
    "dkuGit": {
      "lastInteraction": 0
    },
    "creationTag": {
      "versionNumber": 0,
      "lastModifiedBy": {
        "login": "admin"
      },
      "lastModifiedOn": 1654269750184
    },
    "creator": "admin",
    "createdOn": 1654269750184,
    "tags": [
      "recipe-editor"
    ],
    "customFields": {},
    "hide_input": false,
    "language_info": {
      "name": "python",
      "version": "3.7.9",
      "mimetype": "text/x-python",
      "codemirror_mode": {
        "name": "ipython",
        "version": 3
      },
      "pygments_lexer": "ipython3",
      "nbconvert_exporter": "python",
      "file_extension": ".py"
    },
    "modifiedBy": "admin"
  },
  "nbformat": 4,
  "nbformat_minor": 1,
  "cells": [
    {
      "execution_count": 0,
      "cell_type": "code",
      "metadata": {},
      "source": [
        "# -*- coding: utf-8 -*-\nimport dataiku\nimport pandas as pd, numpy as np\nfrom dataiku import pandasutils as pdu\nimport requests\nimport csv\nimport codecs"
      ],
      "outputs": []
    },
    {
      "execution_count": 0,
      "cell_type": "code",
      "metadata": {},
      "source": [
        "# Read recipe inputs\ndata_github \u003d dataiku.Folder(\"iQdwcZ0q\")\ndata_github_info \u003d data_github.get_info()"
      ],
      "outputs": []
    },
    {
      "execution_count": 42,
      "cell_type": "code",
      "metadata": {},
      "source": [
        "url \u003d \u0027https://raw.githubusercontent.com/pcm-dpc/COVID-19/master/dati-andamento-nazionale/dpc-covid19-ita-andamento-nazionale.csv\u0027\npd.read_csv(url, index_col\u003dNone)\n# print(df.head(5))"
      ],
      "outputs": [
        {
          "output_type": "stream",
          "text": "                    stato  ricoverati_con_sintomi  terapia_intensiva  totale_ospedalizzati  isolamento_domiciliare  totale_positivi  variazione_totale_positivi  nuovi_positivi  dimessi_guariti  deceduti  casi_da_sospetto_diagnostico  casi_da_screening  totale_casi  tamponi  casi_testati note  ingressi_terapia_intensiva  note_test  note_casi  totale_positivi_test_molecolare  totale_positivi_test_antigenico_rapido  tamponi_test_molecolare  tamponi_test_antigenico_rapido\ndata                                                                                                                                                                                                                                                                                                                                                                                                                                                                                    \n2020-02-24T18:00:00   ITA                     101                 26                   127                      94              221                           0             221                1         7                           NaN                NaN          229     4324           NaN  NaN                         NaN        NaN        NaN                              NaN                                     NaN                      NaN                             NaN\n2020-02-25T18:00:00   ITA                     114                 35                   150                     162              311                          90              93                1        10                           NaN                NaN          322     8623           NaN  NaN                         NaN        NaN        NaN                              NaN                                     NaN                      NaN                             NaN\n2020-02-26T18:00:00   ITA                     128                 36                   164                     221              385                          74              78                3        12                           NaN                NaN          400     9587           NaN  NaN                         NaN        NaN        NaN                              NaN                                     NaN                      NaN                             NaN\n2020-02-27T18:00:00   ITA                     248                 56                   304                     284              588                         203             250               45        17                           NaN                NaN          650    12014           NaN  NaN                         NaN        NaN        NaN                              NaN                                     NaN                      NaN                             NaN\n2020-02-28T18:00:00   ITA                     345                 64                   409                     412              821                         233             238               46        21                           NaN                NaN          888    15695           NaN  NaN                         NaN        NaN        NaN                              NaN                                     NaN                      NaN                             NaN\n",
          "name": "stdout"
        }
      ]
    },
    {
      "execution_count": 50,
      "cell_type": "code",
      "metadata": {},
      "source": [
        "dpc_covid19_ita_andamento_nazionale_df \u003d pd.DataFrame(df).reset_index()"
      ],
      "outputs": []
    },
    {
      "execution_count": 51,
      "cell_type": "code",
      "metadata": {},
      "source": [
        "# Compute recipe outputs\n# TODO: Write here your actual code that computes the outputs\n# NB: DSS supports several kinds of APIs for reading and writing data. Please see doc.\n\n\n# Write recipe outputs\ndpc_covid19_ita_andamento_nazionale \u003d dataiku.Dataset(\"dpc-covid19-ita-andamento-nazionale\")\ndpc_covid19_ita_andamento_nazionale.write_with_schema(dpc_covid19_ita_andamento_nazionale_df)"
      ],
      "outputs": [
        {
          "output_type": "stream",
          "text": "831 rows successfully written (ZuXalEWp8a)\n",
          "name": "stdout"
        }
      ]
    },
    {
      "execution_count": 0,
      "cell_type": "code",
      "metadata": {},
      "source": [
        ""
      ],
      "outputs": []
    }
  ]
}