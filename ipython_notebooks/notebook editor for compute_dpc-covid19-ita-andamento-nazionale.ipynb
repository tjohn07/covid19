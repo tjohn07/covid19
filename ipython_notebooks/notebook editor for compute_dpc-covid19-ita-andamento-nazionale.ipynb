{
  "metadata": {
    "kernelspec": {
      "name": "python3",
      "display_name": "Python 3",
      "language": "python"
    },
    "associatedRecipe": "compute_dpc-covid19-ita-andamento-nazionale",
    "creator": "admin",
    "createdOn": 1654269750184,
    "tags": [
      "recipe-editor"
    ],
    "customFields": {},
    "hide_input": false,
    "language_info": {
      "name": "python",
      "version": "3.7.9",
      "mimetype": "text/x-python",
      "codemirror_mode": {
        "name": "ipython",
        "version": 3
      },
      "pygments_lexer": "ipython3",
      "nbconvert_exporter": "python",
      "file_extension": ".py"
    },
    "modifiedBy": "admin"
  },
  "nbformat": 4,
  "nbformat_minor": 1,
  "cells": [
    {
      "execution_count": 24,
      "cell_type": "code",
      "metadata": {},
      "source": [
        "# -*- coding: utf-8 -*-\nimport dataiku\nimport pandas as pd, numpy as np\nfrom dataiku import pandasutils as pdu\nimport requests\nimport csv\nimport codecs"
      ],
      "outputs": []
    },
    {
      "execution_count": 10,
      "cell_type": "code",
      "metadata": {},
      "source": [
        "# Read recipe inputs\ndata_github \u003d dataiku.Folder(\"iQdwcZ0q\")\ndata_github_info \u003d data_github.get_info()"
      ],
      "outputs": []
    },
    {
      "execution_count": 27,
      "cell_type": "code",
      "metadata": {},
      "source": [
        "url \u003d \u0027https://raw.githubusercontent.com/pcm-dpc/COVID-19/master/dati-andamento-nazionale/dpc-covid19-ita-andamento-nazionale.csv\u0027\ndf \u003d pd.read_csv(url, index_col\u003d0)\nprint(df.head(5))"
      ],
      "outputs": [
        {
          "output_type": "stream",
          "text": "                    stato  ricoverati_con_sintomi  terapia_intensiva  totale_ospedalizzati  isolamento_domiciliare  totale_positivi  variazione_totale_positivi  nuovi_positivi  dimessi_guariti  deceduti  casi_da_sospetto_diagnostico  casi_da_screening  totale_casi  tamponi  casi_testati note  ingressi_terapia_intensiva  note_test  note_casi  totale_positivi_test_molecolare  totale_positivi_test_antigenico_rapido  tamponi_test_molecolare  tamponi_test_antigenico_rapido\ndata                                                                                                                                                                                                                                                                                                                                                                                                                                                                                    \n2020-02-24T18:00:00   ITA                     101                 26                   127                      94              221                           0             221                1         7                           NaN                NaN          229     4324           NaN  NaN                         NaN        NaN        NaN                              NaN                                     NaN                      NaN                             NaN\n2020-02-25T18:00:00   ITA                     114                 35                   150                     162              311                          90              93                1        10                           NaN                NaN          322     8623           NaN  NaN                         NaN        NaN        NaN                              NaN                                     NaN                      NaN                             NaN\n2020-02-26T18:00:00   ITA                     128                 36                   164                     221              385                          74              78                3        12                           NaN                NaN          400     9587           NaN  NaN                         NaN        NaN        NaN                              NaN                                     NaN                      NaN                             NaN\n2020-02-27T18:00:00   ITA                     248                 56                   304                     284              588                         203             250               45        17                           NaN                NaN          650    12014           NaN  NaN                         NaN        NaN        NaN                              NaN                                     NaN                      NaN                             NaN\n2020-02-28T18:00:00   ITA                     345                 64                   409                     412              821                         233             238               46        21                           NaN                NaN          888    15695           NaN  NaN                         NaN        NaN        NaN                              NaN                                     NaN                      NaN                             NaN\n",
          "name": "stdout"
        }
      ]
    },
    {
      "execution_count": 32,
      "cell_type": "code",
      "metadata": {},
      "source": [
        "pd.DataFrame(df, index\u003d0)"
      ],
      "outputs": [
        {
          "output_type": "error",
          "ename": "TypeError",
          "evalue": "Index(...) must be called with a collection of some kind, 0 was passed",
          "traceback": [
            "\u001b[0;31m---------------------------------------------------------------------------\u001b[0m",
            "\u001b[0;31mTypeError\u001b[0m                                 Traceback (most recent call last)",
            "\u001b[0;32m\u003cipython-input-32-bede8fab732c\u003e\u001b[0m in \u001b[0;36m\u003cmodule\u003e\u001b[0;34m()\u001b[0m\n\u001b[0;32m----\u003e 1\u001b[0;31m \u001b[0mpd\u001b[0m\u001b[0;34m.\u001b[0m\u001b[0mDataFrame\u001b[0m\u001b[0;34m(\u001b[0m\u001b[0mdf\u001b[0m\u001b[0;34m,\u001b[0m \u001b[0mindex\u001b[0m\u001b[0;34m\u003d\u001b[0m\u001b[0;36m0\u001b[0m\u001b[0;34m)\u001b[0m\u001b[0;34m\u001b[0m\u001b[0;34m\u001b[0m\u001b[0m\n\u001b[0m",
            "\u001b[0;32m/Users/terrijohn/Applications/dss/10.0.0/python37.packages/pandas/core/frame.py\u001b[0m in \u001b[0;36m__init__\u001b[0;34m(self, data, index, columns, dtype, copy)\u001b[0m\n\u001b[1;32m    344\u001b[0m         \u001b[0;32mif\u001b[0m \u001b[0misinstance\u001b[0m\u001b[0;34m(\u001b[0m\u001b[0mdata\u001b[0m\u001b[0;34m,\u001b[0m \u001b[0mBlockManager\u001b[0m\u001b[0;34m)\u001b[0m\u001b[0;34m:\u001b[0m\u001b[0;34m\u001b[0m\u001b[0;34m\u001b[0m\u001b[0m\n\u001b[1;32m    345\u001b[0m             mgr \u003d self._init_mgr(data, axes\u003ddict(index\u003dindex, columns\u003dcolumns),\n\u001b[0;32m--\u003e 346\u001b[0;31m                                  dtype\u003ddtype, copy\u003dcopy)\n\u001b[0m\u001b[1;32m    347\u001b[0m         \u001b[0;32melif\u001b[0m \u001b[0misinstance\u001b[0m\u001b[0;34m(\u001b[0m\u001b[0mdata\u001b[0m\u001b[0;34m,\u001b[0m \u001b[0mdict\u001b[0m\u001b[0;34m)\u001b[0m\u001b[0;34m:\u001b[0m\u001b[0;34m\u001b[0m\u001b[0;34m\u001b[0m\u001b[0m\n\u001b[1;32m    348\u001b[0m             \u001b[0mmgr\u001b[0m \u001b[0;34m\u003d\u001b[0m \u001b[0mself\u001b[0m\u001b[0;34m.\u001b[0m\u001b[0m_init_dict\u001b[0m\u001b[0;34m(\u001b[0m\u001b[0mdata\u001b[0m\u001b[0;34m,\u001b[0m \u001b[0mindex\u001b[0m\u001b[0;34m,\u001b[0m \u001b[0mcolumns\u001b[0m\u001b[0;34m,\u001b[0m \u001b[0mdtype\u001b[0m\u001b[0;34m\u003d\u001b[0m\u001b[0mdtype\u001b[0m\u001b[0;34m)\u001b[0m\u001b[0;34m\u001b[0m\u001b[0;34m\u001b[0m\u001b[0m\n",
            "\u001b[0;32m/Users/terrijohn/Applications/dss/10.0.0/python37.packages/pandas/core/generic.py\u001b[0m in \u001b[0;36m_init_mgr\u001b[0;34m(self, mgr, axes, dtype, copy)\u001b[0m\n\u001b[1;32m    182\u001b[0m                 mgr \u003d mgr.reindex_axis(axe,\n\u001b[1;32m    183\u001b[0m                                        \u001b[0maxis\u001b[0m\u001b[0;34m\u003d\u001b[0m\u001b[0mself\u001b[0m\u001b[0;34m.\u001b[0m\u001b[0m_get_block_manager_axis\u001b[0m\u001b[0;34m(\u001b[0m\u001b[0ma\u001b[0m\u001b[0;34m)\u001b[0m\u001b[0;34m,\u001b[0m\u001b[0;34m\u001b[0m\u001b[0;34m\u001b[0m\u001b[0m\n\u001b[0;32m--\u003e 184\u001b[0;31m                                        copy\u003dFalse)\n\u001b[0m\u001b[1;32m    185\u001b[0m \u001b[0;34m\u001b[0m\u001b[0m\n\u001b[1;32m    186\u001b[0m         \u001b[0;31m# make a copy if explicitly requested\u001b[0m\u001b[0;34m\u001b[0m\u001b[0;34m\u001b[0m\u001b[0;34m\u001b[0m\u001b[0m\n",
            "\u001b[0;32m/Users/terrijohn/Applications/dss/10.0.0/python37.packages/pandas/core/internals.py\u001b[0m in \u001b[0;36mreindex_axis\u001b[0;34m(self, new_index, axis, method, limit, fill_value, copy)\u001b[0m\n\u001b[1;32m   4379\u001b[0m         \u001b[0mConform\u001b[0m \u001b[0mblock\u001b[0m \u001b[0mmanager\u001b[0m \u001b[0mto\u001b[0m \u001b[0mnew\u001b[0m \u001b[0mindex\u001b[0m\u001b[0;34m.\u001b[0m\u001b[0;34m\u001b[0m\u001b[0;34m\u001b[0m\u001b[0m\n\u001b[1;32m   4380\u001b[0m         \"\"\"\n\u001b[0;32m-\u003e 4381\u001b[0;31m         \u001b[0mnew_index\u001b[0m \u001b[0;34m\u003d\u001b[0m \u001b[0m_ensure_index\u001b[0m\u001b[0;34m(\u001b[0m\u001b[0mnew_index\u001b[0m\u001b[0;34m)\u001b[0m\u001b[0;34m\u001b[0m\u001b[0;34m\u001b[0m\u001b[0m\n\u001b[0m\u001b[1;32m   4382\u001b[0m         new_index, indexer \u003d self.axes[axis].reindex(new_index, method\u003dmethod,\n\u001b[1;32m   4383\u001b[0m                                                      limit\u003dlimit)\n",
            "\u001b[0;32m/Users/terrijohn/Applications/dss/10.0.0/python37.packages/pandas/core/indexes/base.py\u001b[0m in \u001b[0;36m_ensure_index\u001b[0;34m(index_like, copy)\u001b[0m\n\u001b[1;32m   4972\u001b[0m             \u001b[0mindex_like\u001b[0m \u001b[0;34m\u003d\u001b[0m \u001b[0mcopy\u001b[0m\u001b[0;34m(\u001b[0m\u001b[0mindex_like\u001b[0m\u001b[0;34m)\u001b[0m\u001b[0;34m\u001b[0m\u001b[0;34m\u001b[0m\u001b[0m\n\u001b[1;32m   4973\u001b[0m \u001b[0;34m\u001b[0m\u001b[0m\n\u001b[0;32m-\u003e 4974\u001b[0;31m     \u001b[0;32mreturn\u001b[0m \u001b[0mIndex\u001b[0m\u001b[0;34m(\u001b[0m\u001b[0mindex_like\u001b[0m\u001b[0;34m)\u001b[0m\u001b[0;34m\u001b[0m\u001b[0;34m\u001b[0m\u001b[0m\n\u001b[0m\u001b[1;32m   4975\u001b[0m \u001b[0;34m\u001b[0m\u001b[0m\n\u001b[1;32m   4976\u001b[0m \u001b[0;34m\u001b[0m\u001b[0m\n",
            "\u001b[0;32m/Users/terrijohn/Applications/dss/10.0.0/python37.packages/pandas/core/indexes/base.py\u001b[0m in \u001b[0;36m__new__\u001b[0;34m(cls, data, dtype, copy, name, fastpath, tupleize_cols, **kwargs)\u001b[0m\n\u001b[1;32m    435\u001b[0m                          **kwargs)\n\u001b[1;32m    436\u001b[0m         \u001b[0;32melif\u001b[0m \u001b[0mdata\u001b[0m \u001b[0;32mis\u001b[0m \u001b[0;32mNone\u001b[0m \u001b[0;32mor\u001b[0m \u001b[0mis_scalar\u001b[0m\u001b[0;34m(\u001b[0m\u001b[0mdata\u001b[0m\u001b[0;34m)\u001b[0m\u001b[0;34m:\u001b[0m\u001b[0;34m\u001b[0m\u001b[0;34m\u001b[0m\u001b[0m\n\u001b[0;32m--\u003e 437\u001b[0;31m             \u001b[0mcls\u001b[0m\u001b[0;34m.\u001b[0m\u001b[0m_scalar_data_error\u001b[0m\u001b[0;34m(\u001b[0m\u001b[0mdata\u001b[0m\u001b[0;34m)\u001b[0m\u001b[0;34m\u001b[0m\u001b[0;34m\u001b[0m\u001b[0m\n\u001b[0m\u001b[1;32m    438\u001b[0m         \u001b[0;32melse\u001b[0m\u001b[0;34m:\u001b[0m\u001b[0;34m\u001b[0m\u001b[0;34m\u001b[0m\u001b[0m\n\u001b[1;32m    439\u001b[0m             \u001b[0;32mif\u001b[0m \u001b[0mtupleize_cols\u001b[0m \u001b[0;32mand\u001b[0m \u001b[0mis_list_like\u001b[0m\u001b[0;34m(\u001b[0m\u001b[0mdata\u001b[0m\u001b[0;34m)\u001b[0m\u001b[0;34m:\u001b[0m\u001b[0;34m\u001b[0m\u001b[0;34m\u001b[0m\u001b[0m\n",
            "\u001b[0;32m/Users/terrijohn/Applications/dss/10.0.0/python37.packages/pandas/core/indexes/base.py\u001b[0m in \u001b[0;36m_scalar_data_error\u001b[0;34m(cls, data)\u001b[0m\n\u001b[1;32m    895\u001b[0m         raise TypeError(\u0027{0}(...) must be called with a collection of some \u0027\n\u001b[1;32m    896\u001b[0m                         \u0027kind, {1} was passed\u0027.format(cls.__name__,\n\u001b[0;32m--\u003e 897\u001b[0;31m                                                       repr(data)))\n\u001b[0m\u001b[1;32m    898\u001b[0m \u001b[0;34m\u001b[0m\u001b[0m\n\u001b[1;32m    899\u001b[0m     \u001b[0;34m@\u001b[0m\u001b[0mclassmethod\u001b[0m\u001b[0;34m\u001b[0m\u001b[0;34m\u001b[0m\u001b[0m\n",
            "\u001b[0;31mTypeError\u001b[0m: Index(...) must be called with a collection of some kind, 0 was passed"
          ]
        }
      ]
    },
    {
      "execution_count": 26,
      "cell_type": "code",
      "metadata": {},
      "source": [
        "# url \u003d \u0027https://github.com/pcm-dpc/COVID-19/blob/master/dati-andamento-nazionale/dpc-covid19-ita-andamento-nazionale.csv\u0027\n# r \u003d requests.get(url)\n# text \u003d r.iter_lines()\n# reader \u003d csv.reader(codecs.iterdecode(text.iter_lines(), \u0027str\u0027))"
      ],
      "outputs": [
        {
          "output_type": "error",
          "ename": "AttributeError",
          "evalue": "\u0027generator\u0027 object has no attribute \u0027iter_lines\u0027",
          "traceback": [
            "\u001b[0;31m---------------------------------------------------------------------------\u001b[0m",
            "\u001b[0;31mAttributeError\u001b[0m                            Traceback (most recent call last)",
            "\u001b[0;32m\u003cipython-input-26-24b1d498fe24\u003e\u001b[0m in \u001b[0;36m\u003cmodule\u003e\u001b[0;34m()\u001b[0m\n\u001b[1;32m      2\u001b[0m \u001b[0mr\u001b[0m \u001b[0;34m\u003d\u001b[0m \u001b[0mrequests\u001b[0m\u001b[0;34m.\u001b[0m\u001b[0mget\u001b[0m\u001b[0;34m(\u001b[0m\u001b[0murl\u001b[0m\u001b[0;34m)\u001b[0m\u001b[0;34m\u001b[0m\u001b[0;34m\u001b[0m\u001b[0m\n\u001b[1;32m      3\u001b[0m \u001b[0mtext\u001b[0m \u001b[0;34m\u003d\u001b[0m \u001b[0mr\u001b[0m\u001b[0;34m.\u001b[0m\u001b[0miter_lines\u001b[0m\u001b[0;34m(\u001b[0m\u001b[0;34m)\u001b[0m\u001b[0;34m\u001b[0m\u001b[0;34m\u001b[0m\u001b[0m\n\u001b[0;32m----\u003e 4\u001b[0;31m \u001b[0mreader\u001b[0m \u001b[0;34m\u003d\u001b[0m \u001b[0mcsv\u001b[0m\u001b[0;34m.\u001b[0m\u001b[0mreader\u001b[0m\u001b[0;34m(\u001b[0m\u001b[0mcodecs\u001b[0m\u001b[0;34m.\u001b[0m\u001b[0miterdecode\u001b[0m\u001b[0;34m(\u001b[0m\u001b[0mtext\u001b[0m\u001b[0;34m.\u001b[0m\u001b[0miter_lines\u001b[0m\u001b[0;34m(\u001b[0m\u001b[0;34m)\u001b[0m\u001b[0;34m,\u001b[0m \u001b[0;34m\u0027str\u0027\u001b[0m\u001b[0;34m)\u001b[0m\u001b[0;34m)\u001b[0m\u001b[0;34m\u001b[0m\u001b[0;34m\u001b[0m\u001b[0m\n\u001b[0m",
            "\u001b[0;31mAttributeError\u001b[0m: \u0027generator\u0027 object has no attribute \u0027iter_lines\u0027"
          ]
        }
      ]
    },
    {
      "execution_count": 23,
      "cell_type": "code",
      "metadata": {},
      "source": [
        "for row in reader:\n    print(row)"
      ],
      "outputs": [
        {
          "output_type": "error",
          "ename": "Error",
          "evalue": "iterator should return strings, not bytes (did you open the file in text mode?)",
          "traceback": [
            "\u001b[0;31m---------------------------------------------------------------------------\u001b[0m",
            "\u001b[0;31mError\u001b[0m                                     Traceback (most recent call last)",
            "\u001b[0;32m\u003cipython-input-23-fe15a5ecf0b9\u003e\u001b[0m in \u001b[0;36m\u003cmodule\u003e\u001b[0;34m()\u001b[0m\n\u001b[0;32m----\u003e 1\u001b[0;31m \u001b[0;32mfor\u001b[0m \u001b[0mrow\u001b[0m \u001b[0;32min\u001b[0m \u001b[0mreader\u001b[0m\u001b[0;34m:\u001b[0m\u001b[0;34m\u001b[0m\u001b[0;34m\u001b[0m\u001b[0m\n\u001b[0m\u001b[1;32m      2\u001b[0m     \u001b[0mprint\u001b[0m\u001b[0;34m(\u001b[0m\u001b[0mrow\u001b[0m\u001b[0;34m)\u001b[0m\u001b[0;34m\u001b[0m\u001b[0;34m\u001b[0m\u001b[0m\n",
            "\u001b[0;31mError\u001b[0m: iterator should return strings, not bytes (did you open the file in text mode?)"
          ]
        }
      ]
    },
    {
      "execution_count": 0,
      "cell_type": "code",
      "metadata": {},
      "source": [
        "# Compute recipe outputs\n# TODO: Write here your actual code that computes the outputs\n# NB: DSS supports several kinds of APIs for reading and writing data. Please see doc.\n\ndpc_covid19_ita_andamento_nazionale_df \u003d pd.read_csv(\u0027https://github.com/pcm-dpc/COVID-19/blob/master/dati-andamento-nazionale/dpc-covid19-ita-andamento-nazionale.csv\u0027)\n\n# Write recipe outputs\ndpc_covid19_ita_andamento_nazionale \u003d dataiku.Dataset(\"dpc-covid19-ita-andamento-nazionale\")\ndpc_covid19_ita_andamento_nazionale.write_with_schema(dpc_covid19_ita_andamento_nazionale_df)"
      ],
      "outputs": []
    }
  ]
}