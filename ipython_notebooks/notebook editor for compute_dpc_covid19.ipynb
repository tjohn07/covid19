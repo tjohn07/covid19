{
  "metadata": {
    "kernelspec": {
      "name": "py-dku-venv-python37_holidays",
      "display_name": "Python (env python37_holidays)",
      "language": "python"
    },
    "associatedRecipe": "compute_dpc_covid19",
    "dkuGit": {
      "lastInteraction": 0
    },
    "creationTag": {
      "versionNumber": 0,
      "lastModifiedBy": {
        "login": "admin"
      },
      "lastModifiedOn": 1654548041728
    },
    "creator": "admin",
    "createdOn": 1654548041728,
    "tags": [
      "recipe-editor"
    ],
    "customFields": {},
    "hide_input": false,
    "language_info": {
      "name": "python",
      "version": "3.7.9",
      "mimetype": "text/x-python",
      "codemirror_mode": {
        "name": "ipython",
        "version": 3
      },
      "pygments_lexer": "ipython3",
      "nbconvert_exporter": "python",
      "file_extension": ".py"
    },
    "modifiedBy": "admin"
  },
  "nbformat": 4,
  "nbformat_minor": 1,
  "cells": [
    {
      "execution_count": 1,
      "cell_type": "code",
      "metadata": {},
      "source": [
        "# -*- coding: utf-8 -*-\nimport dataiku\nimport pandas as pd, numpy as np\nfrom dataiku import pandasutils as pdu"
      ],
      "outputs": []
    },
    {
      "execution_count": 2,
      "cell_type": "code",
      "metadata": {},
      "source": [
        "url \u003d \u0027https://raw.githubusercontent.com/pcm-dpc/COVID-19/master/dati-andamento-nazionale/dpc-covid19-ita-andamento-nazionale.csv\u0027\ndf \u003d pd.read_csv(url, index_col\u003dNone)"
      ],
      "outputs": [
        {
          "output_type": "stream",
          "text": "/Users/terrijohn/Library/dss/design/code-envs/python/python37_holidays/lib/python3.7/site-packages/pandas/core/indexes/base.py:395: DeprecationWarning: `np.bool` is a deprecated alias for the builtin `bool`. To silence this warning, use `bool` by itself. Doing this will not modify any behavior and is safe. If you specifically wanted the numpy scalar type, use `np.bool_` here.\nDeprecated in NumPy 1.20; for more details and guidance: https://numpy.org/devdocs/release/1.20.0-notes.html#deprecations\n  elif issubclass(data.dtype.type, np.bool) or is_bool_dtype(data):\n",
          "name": "stderr"
        }
      ]
    },
    {
      "execution_count": 5,
      "cell_type": "code",
      "metadata": {},
      "source": [
        "df[\u0027data\u0027] \u003d pd.to_datetime(df[\u0027data\u0027])"
      ],
      "outputs": [
        {
          "output_type": "stream",
          "text": "/Users/terrijohn/Library/dss/design/code-envs/python/python37_holidays/lib/python3.7/site-packages/pandas/core/indexes/base.py:395: DeprecationWarning: `np.bool` is a deprecated alias for the builtin `bool`. To silence this warning, use `bool` by itself. Doing this will not modify any behavior and is safe. If you specifically wanted the numpy scalar type, use `np.bool_` here.\nDeprecated in NumPy 1.20; for more details and guidance: https://numpy.org/devdocs/release/1.20.0-notes.html#deprecations\n  elif issubclass(data.dtype.type, np.bool) or is_bool_dtype(data):\n",
          "name": "stderr"
        }
      ]
    },
    {
      "execution_count": 0,
      "cell_type": "code",
      "metadata": {},
      "source": [
        "dpc_covid19_ita_andamento_nazionale_df \u003d pd.DataFrame(df).reset_index()\n\n# Write recipe outputs\ndpc_covid19 \u003d dataiku.Dataset(\"dpc_covid19\")\ndpc_covid19.write_with_schema(dpc_covid19_ita_andamento_nazionale_df)"
      ],
      "outputs": []
    }
  ]
}