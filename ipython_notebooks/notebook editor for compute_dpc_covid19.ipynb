{
  "metadata": {
    "kernelspec": {
      "name": "python3",
      "display_name": "Python 3",
      "language": "python"
    },
    "associatedRecipe": "compute_dpc_covid19",
    "creator": "admin",
    "createdOn": 1654548041728,
    "tags": [
      "recipe-editor"
    ],
    "customFields": {},
    "hide_input": false,
    "language_info": {
      "name": "python",
      "version": "3.7.9",
      "mimetype": "text/x-python",
      "codemirror_mode": {
        "name": "ipython",
        "version": 3
      },
      "pygments_lexer": "ipython3",
      "nbconvert_exporter": "python",
      "file_extension": ".py"
    },
    "modifiedBy": "admin"
  },
  "nbformat": 4,
  "nbformat_minor": 1,
  "cells": [
    {
      "execution_count": 1,
      "cell_type": "code",
      "metadata": {},
      "source": [
        "# -*- coding: utf-8 -*-\nimport dataiku\nimport pandas as pd, numpy as np\nfrom dataiku import pandasutils as pdu\n\n\n\n"
      ],
      "outputs": []
    },
    {
      "execution_count": 4,
      "cell_type": "code",
      "metadata": {},
      "source": [
        "url \u003d \u0027https://raw.githubusercontent.com/pcm-dpc/COVID-19/master/dati-andamento-nazionale/dpc-covid19-ita-andamento-nazionale.csv\u0027\ndf \u003d pd.read_csv(url, index_col\u003dNone)\n"
      ],
      "outputs": []
    },
    {
      "execution_count": 5,
      "cell_type": "code",
      "metadata": {},
      "source": [
        "dpc_covid19_ita_andamento_nazionale_df \u003d pd.DataFrame(df).reset_index()\n\n# Write recipe outputs\ndpc_covid19 \u003d dataiku.Dataset(\"dpc_covid19\")\ndpc_covid19.write_with_schema(dpc_covid19_ita_andamento_nazionale_df)"
      ],
      "outputs": [
        {
          "output_type": "stream",
          "text": "834 rows successfully written (sHmnWjACVV)\n",
          "name": "stdout"
        }
      ]
    },
    {
      "execution_count": 0,
      "cell_type": "code",
      "metadata": {},
      "source": [
        ""
      ],
      "outputs": []
    }
  ]
}