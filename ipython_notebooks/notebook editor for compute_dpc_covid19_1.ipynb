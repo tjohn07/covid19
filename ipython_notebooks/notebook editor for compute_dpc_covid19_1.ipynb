{
  "nbformat": 4,
  "nbformat_minor": 0,
  "metadata": {
    "kernelspec": {
      "display_name": "Python 3",
      "language": "python",
      "name": "python3"
    },
    "associatedRecipe": "compute_dpc_covid19_1",
    "creator": "admin",
    "createdOn": 1654550370316,
    "tags": [
      "recipe-editor"
    ],
    "customFields": {}
  },
  "cells": [
    {
      "cell_type": "code",
      "metadata": {},
      "outputs": [],
      "execution_count": 0,
      "source": [
        "# -*- coding: utf-8 -*-\n",
        "import dataiku\n",
        "import pandas as pd, numpy as np\n",
        "from dataiku import pandasutils as pdu"
      ]
    },
    {
      "cell_type": "code",
      "metadata": {},
      "outputs": [],
      "execution_count": 0,
      "source": [
        "url \u003d \u0027https://raw.githubusercontent.com/pcm-dpc/COVID-19/master/dati-province/dpc-covid19-ita-province.csv\u0027\n",
        "df \u003d pd.read_csv(url, index_col\u003dNone)"
      ]
    },
    {
      "cell_type": "code",
      "metadata": {},
      "outputs": [],
      "execution_count": 0,
      "source": [
        "province_df \u003d pd.DataFrame(df).reset_index()\n",
        "\n",
        "# Write recipe outputs\n",
        "dati_province \u003d dataiku.Dataset(\"dati_province\")\n",
        "dati_province.write_with_schema(province_df)"
      ]
    }
  ]
}