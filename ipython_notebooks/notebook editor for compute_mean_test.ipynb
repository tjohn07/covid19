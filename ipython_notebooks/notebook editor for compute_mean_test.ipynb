{
  "nbformat": 4,
  "nbformat_minor": 0,
  "metadata": {
    "kernelspec": {
      "display_name": "Python (env python37_holidays)",
      "language": "python",
      "name": "py-dku-venv-python37_holidays"
    },
    "associatedRecipe": "compute_mean_test",
    "creator": "admin",
    "createdOn": 1657811656628,
    "tags": [
      "recipe-editor"
    ],
    "customFields": {}
  },
  "cells": [
    {
      "cell_type": "code",
      "metadata": {},
      "outputs": [],
      "execution_count": 0,
      "source": [
        "# -*- coding: utf-8 -*-\n",
        "import dataiku\n",
        "import pandas as pd, numpy as np\n",
        "from dataiku import pandasutils as pdu\n",
        "\n",
        "# Read recipe inputs\n",
        "dati_province \u003d dataiku.Dataset(\"dati_province\")\n",
        "dati_province_df \u003d dati_province.get_dataframe()\n",
        "\n",
        "\n",
        "# Compute recipe outputs from inputs\n",
        "# TODO: Replace this part by your actual code that computes the output, as a Pandas dataframe\n",
        "# NB: DSS also supports other kinds of APIs for reading and writing data. Please see doc.\n",
        "\n",
        "mean_test_df \u003d dati_province_df # For this sample code, simply copy input to output\n",
        "\n",
        "\n",
        "# Write recipe outputs\n",
        "mean_test \u003d dataiku.Dataset(\"mean_test\")\n",
        "mean_test.write_with_schema(mean_test_df)"
      ]
    }
  ]
}