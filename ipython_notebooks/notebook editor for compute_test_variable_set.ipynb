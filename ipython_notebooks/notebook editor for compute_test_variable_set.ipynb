{
  "metadata": {
    "kernelspec": {
      "name": "py-dku-venv-python37_holidays",
      "display_name": "Python (env python37_holidays)",
      "language": "python"
    },
    "associatedRecipe": "compute_test_variable_set",
    "dkuGit": {
      "lastInteraction": 0
    },
    "creationTag": {
      "versionNumber": 0,
      "lastModifiedBy": {
        "login": "admin"
      },
      "lastModifiedOn": 1654709825699
    },
    "creator": "admin",
    "createdOn": 1654709825699,
    "tags": [
      "recipe-editor"
    ],
    "customFields": {},
    "hide_input": false,
    "language_info": {
      "name": "python",
      "version": "3.7.9",
      "mimetype": "text/x-python",
      "codemirror_mode": {
        "name": "ipython",
        "version": 3
      },
      "pygments_lexer": "ipython3",
      "nbconvert_exporter": "python",
      "file_extension": ".py"
    },
    "modifiedBy": "admin"
  },
  "nbformat": 4,
  "nbformat_minor": 1,
  "cells": [
    {
      "execution_count": 32,
      "cell_type": "code",
      "metadata": {},
      "source": [
        "# -*- coding: utf-8 -*-\nimport dataiku\nimport pandas as pd, numpy as np\nfrom dataiku import pandasutils as pdu\nfrom dataiku.scenario import Trigger\n\n\n# Accessing the DSS Global/Project Variables\nproj \u003d dataiku.Project()\nvariables \u003d proj.get_variables()"
      ],
      "outputs": []
    },
    {
      "execution_count": 33,
      "cell_type": "code",
      "metadata": {},
      "source": [
        "ntile10_dataset \u003d dataiku.Dataset(\"dpc_covid19_prepared_windows_by_ntile10\")\ndpc_dataset \u003d dataiku.Dataset(\"dpc_covid19_prepared\")"
      ],
      "outputs": []
    },
    {
      "execution_count": 34,
      "cell_type": "code",
      "metadata": {},
      "source": [
        "ntile10_df \u003d ntile10_dataset.get_dataframe()\ndpc_df \u003d dpc_dataset.get_dataframe()"
      ],
      "outputs": []
    },
    {
      "execution_count": 35,
      "cell_type": "code",
      "metadata": {},
      "source": [
        "ntile10_df.head()"
      ],
      "outputs": [
        {
          "output_type": "execute_result",
          "execution_count": 35,
          "data": {
            "text/plain": "   ntile10  nuovi_positivi_min  nuovi_positivi_max  nuovi_positivi_avg  nuovi_positivi_sum  nuovi_positivi_stddev  count\n0        1                  78                 451          253.000000               21252              84.220022     84\n1        2                 463                1397          918.452381               77150             294.270362     84\n2        3                1400                2818         2035.096386              168913             456.517374     83\n3        4                2834                4717         3713.726190              311953             554.433464     84\n4        5                4720                7537         5963.337349              494957             817.652847     83",
            "text/html": "\u003cdiv\u003e\n\u003cstyle scoped\u003e\n    .dataframe tbody tr th:only-of-type {\n        vertical-align: middle;\n    }\n\n    .dataframe tbody tr th {\n        vertical-align: top;\n    }\n\n    .dataframe thead th {\n        text-align: right;\n    }\n\u003c/style\u003e\n\u003ctable border\u003d\"1\" class\u003d\"dataframe\"\u003e\n  \u003cthead\u003e\n    \u003ctr style\u003d\"text-align: right;\"\u003e\n      \u003cth\u003e\u003c/th\u003e\n      \u003cth\u003entile10\u003c/th\u003e\n      \u003cth\u003enuovi_positivi_min\u003c/th\u003e\n      \u003cth\u003enuovi_positivi_max\u003c/th\u003e\n      \u003cth\u003enuovi_positivi_avg\u003c/th\u003e\n      \u003cth\u003enuovi_positivi_sum\u003c/th\u003e\n      \u003cth\u003enuovi_positivi_stddev\u003c/th\u003e\n      \u003cth\u003ecount\u003c/th\u003e\n    \u003c/tr\u003e\n  \u003c/thead\u003e\n  \u003ctbody\u003e\n    \u003ctr\u003e\n      \u003cth\u003e0\u003c/th\u003e\n      \u003ctd\u003e1\u003c/td\u003e\n      \u003ctd\u003e78\u003c/td\u003e\n      \u003ctd\u003e451\u003c/td\u003e\n      \u003ctd\u003e253.000000\u003c/td\u003e\n      \u003ctd\u003e21252\u003c/td\u003e\n      \u003ctd\u003e84.220022\u003c/td\u003e\n      \u003ctd\u003e84\u003c/td\u003e\n    \u003c/tr\u003e\n    \u003ctr\u003e\n      \u003cth\u003e1\u003c/th\u003e\n      \u003ctd\u003e2\u003c/td\u003e\n      \u003ctd\u003e463\u003c/td\u003e\n      \u003ctd\u003e1397\u003c/td\u003e\n      \u003ctd\u003e918.452381\u003c/td\u003e\n      \u003ctd\u003e77150\u003c/td\u003e\n      \u003ctd\u003e294.270362\u003c/td\u003e\n      \u003ctd\u003e84\u003c/td\u003e\n    \u003c/tr\u003e\n    \u003ctr\u003e\n      \u003cth\u003e2\u003c/th\u003e\n      \u003ctd\u003e3\u003c/td\u003e\n      \u003ctd\u003e1400\u003c/td\u003e\n      \u003ctd\u003e2818\u003c/td\u003e\n      \u003ctd\u003e2035.096386\u003c/td\u003e\n      \u003ctd\u003e168913\u003c/td\u003e\n      \u003ctd\u003e456.517374\u003c/td\u003e\n      \u003ctd\u003e83\u003c/td\u003e\n    \u003c/tr\u003e\n    \u003ctr\u003e\n      \u003cth\u003e3\u003c/th\u003e\n      \u003ctd\u003e4\u003c/td\u003e\n      \u003ctd\u003e2834\u003c/td\u003e\n      \u003ctd\u003e4717\u003c/td\u003e\n      \u003ctd\u003e3713.726190\u003c/td\u003e\n      \u003ctd\u003e311953\u003c/td\u003e\n      \u003ctd\u003e554.433464\u003c/td\u003e\n      \u003ctd\u003e84\u003c/td\u003e\n    \u003c/tr\u003e\n    \u003ctr\u003e\n      \u003cth\u003e4\u003c/th\u003e\n      \u003ctd\u003e5\u003c/td\u003e\n      \u003ctd\u003e4720\u003c/td\u003e\n      \u003ctd\u003e7537\u003c/td\u003e\n      \u003ctd\u003e5963.337349\u003c/td\u003e\n      \u003ctd\u003e494957\u003c/td\u003e\n      \u003ctd\u003e817.652847\u003c/td\u003e\n      \u003ctd\u003e83\u003c/td\u003e\n    \u003c/tr\u003e\n  \u003c/tbody\u003e\n\u003c/table\u003e\n\u003c/div\u003e"
          },
          "metadata": {}
        }
      ]
    },
    {
      "execution_count": 36,
      "cell_type": "code",
      "metadata": {},
      "source": [
        "# dpc_df.head()"
      ],
      "outputs": [
        {
          "output_type": "execute_result",
          "execution_count": 36,
          "data": {
            "text/plain": "                       data stato  ricoverati_con_sintomi  terapia_intensiva  totale_ospedalizzati  isolamento_domiciliare  totale_positivi  variazione_totale_positivi  nuovi_positivi  dimessi_guariti  deceduti  casi_da_sospetto_diagnostico  casi_da_screening  totale_casi  tamponi  casi_testati note  ingressi_terapia_intensiva  note_test  note_casi  totale_positivi_test_molecolare  totale_positivi_test_antigenico_rapido  tamponi_test_molecolare  tamponi_test_antigenico_rapido  is_holiday  is_weekend\n0 2020-02-24 18:00:00+00:00   ITA                     101                 26                   127                      94              221                           0             221                1         7                           NaN                NaN          229     4324           NaN  NaN                         NaN        NaN        NaN                              NaN                                     NaN                      NaN                             NaN       False       False\n1 2020-02-25 18:00:00+00:00   ITA                     114                 35                   150                     162              311                          90              93                1        10                           NaN                NaN          322     8623           NaN  NaN                         NaN        NaN        NaN                              NaN                                     NaN                      NaN                             NaN       False       False\n2 2020-02-26 18:00:00+00:00   ITA                     128                 36                   164                     221              385                          74              78                3        12                           NaN                NaN          400     9587           NaN  NaN                         NaN        NaN        NaN                              NaN                                     NaN                      NaN                             NaN       False       False\n3 2020-02-27 18:00:00+00:00   ITA                     248                 56                   304                     284              588                         203             250               45        17                           NaN                NaN          650    12014           NaN  NaN                         NaN        NaN        NaN                              NaN                                     NaN                      NaN                             NaN       False       False\n4 2020-02-28 18:00:00+00:00   ITA                     345                 64                   409                     412              821                         233             238               46        21                           NaN                NaN          888    15695           NaN  NaN                         NaN        NaN        NaN                              NaN                                     NaN                      NaN                             NaN       False       False",
            "text/html": "\u003cdiv\u003e\n\u003cstyle scoped\u003e\n    .dataframe tbody tr th:only-of-type {\n        vertical-align: middle;\n    }\n\n    .dataframe tbody tr th {\n        vertical-align: top;\n    }\n\n    .dataframe thead th {\n        text-align: right;\n    }\n\u003c/style\u003e\n\u003ctable border\u003d\"1\" class\u003d\"dataframe\"\u003e\n  \u003cthead\u003e\n    \u003ctr style\u003d\"text-align: right;\"\u003e\n      \u003cth\u003e\u003c/th\u003e\n      \u003cth\u003edata\u003c/th\u003e\n      \u003cth\u003estato\u003c/th\u003e\n      \u003cth\u003ericoverati_con_sintomi\u003c/th\u003e\n      \u003cth\u003eterapia_intensiva\u003c/th\u003e\n      \u003cth\u003etotale_ospedalizzati\u003c/th\u003e\n      \u003cth\u003eisolamento_domiciliare\u003c/th\u003e\n      \u003cth\u003etotale_positivi\u003c/th\u003e\n      \u003cth\u003evariazione_totale_positivi\u003c/th\u003e\n      \u003cth\u003enuovi_positivi\u003c/th\u003e\n      \u003cth\u003edimessi_guariti\u003c/th\u003e\n      \u003cth\u003edeceduti\u003c/th\u003e\n      \u003cth\u003ecasi_da_sospetto_diagnostico\u003c/th\u003e\n      \u003cth\u003ecasi_da_screening\u003c/th\u003e\n      \u003cth\u003etotale_casi\u003c/th\u003e\n      \u003cth\u003etamponi\u003c/th\u003e\n      \u003cth\u003ecasi_testati\u003c/th\u003e\n      \u003cth\u003enote\u003c/th\u003e\n      \u003cth\u003eingressi_terapia_intensiva\u003c/th\u003e\n      \u003cth\u003enote_test\u003c/th\u003e\n      \u003cth\u003enote_casi\u003c/th\u003e\n      \u003cth\u003etotale_positivi_test_molecolare\u003c/th\u003e\n      \u003cth\u003etotale_positivi_test_antigenico_rapido\u003c/th\u003e\n      \u003cth\u003etamponi_test_molecolare\u003c/th\u003e\n      \u003cth\u003etamponi_test_antigenico_rapido\u003c/th\u003e\n      \u003cth\u003eis_holiday\u003c/th\u003e\n      \u003cth\u003eis_weekend\u003c/th\u003e\n    \u003c/tr\u003e\n  \u003c/thead\u003e\n  \u003ctbody\u003e\n    \u003ctr\u003e\n      \u003cth\u003e0\u003c/th\u003e\n      \u003ctd\u003e2020-02-24 18:00:00+00:00\u003c/td\u003e\n      \u003ctd\u003eITA\u003c/td\u003e\n      \u003ctd\u003e101\u003c/td\u003e\n      \u003ctd\u003e26\u003c/td\u003e\n      \u003ctd\u003e127\u003c/td\u003e\n      \u003ctd\u003e94\u003c/td\u003e\n      \u003ctd\u003e221\u003c/td\u003e\n      \u003ctd\u003e0\u003c/td\u003e\n      \u003ctd\u003e221\u003c/td\u003e\n      \u003ctd\u003e1\u003c/td\u003e\n      \u003ctd\u003e7\u003c/td\u003e\n      \u003ctd\u003eNaN\u003c/td\u003e\n      \u003ctd\u003eNaN\u003c/td\u003e\n      \u003ctd\u003e229\u003c/td\u003e\n      \u003ctd\u003e4324\u003c/td\u003e\n      \u003ctd\u003eNaN\u003c/td\u003e\n      \u003ctd\u003eNaN\u003c/td\u003e\n      \u003ctd\u003eNaN\u003c/td\u003e\n      \u003ctd\u003eNaN\u003c/td\u003e\n      \u003ctd\u003eNaN\u003c/td\u003e\n      \u003ctd\u003eNaN\u003c/td\u003e\n      \u003ctd\u003eNaN\u003c/td\u003e\n      \u003ctd\u003eNaN\u003c/td\u003e\n      \u003ctd\u003eNaN\u003c/td\u003e\n      \u003ctd\u003eFalse\u003c/td\u003e\n      \u003ctd\u003eFalse\u003c/td\u003e\n    \u003c/tr\u003e\n    \u003ctr\u003e\n      \u003cth\u003e1\u003c/th\u003e\n      \u003ctd\u003e2020-02-25 18:00:00+00:00\u003c/td\u003e\n      \u003ctd\u003eITA\u003c/td\u003e\n      \u003ctd\u003e114\u003c/td\u003e\n      \u003ctd\u003e35\u003c/td\u003e\n      \u003ctd\u003e150\u003c/td\u003e\n      \u003ctd\u003e162\u003c/td\u003e\n      \u003ctd\u003e311\u003c/td\u003e\n      \u003ctd\u003e90\u003c/td\u003e\n      \u003ctd\u003e93\u003c/td\u003e\n      \u003ctd\u003e1\u003c/td\u003e\n      \u003ctd\u003e10\u003c/td\u003e\n      \u003ctd\u003eNaN\u003c/td\u003e\n      \u003ctd\u003eNaN\u003c/td\u003e\n      \u003ctd\u003e322\u003c/td\u003e\n      \u003ctd\u003e8623\u003c/td\u003e\n      \u003ctd\u003eNaN\u003c/td\u003e\n      \u003ctd\u003eNaN\u003c/td\u003e\n      \u003ctd\u003eNaN\u003c/td\u003e\n      \u003ctd\u003eNaN\u003c/td\u003e\n      \u003ctd\u003eNaN\u003c/td\u003e\n      \u003ctd\u003eNaN\u003c/td\u003e\n      \u003ctd\u003eNaN\u003c/td\u003e\n      \u003ctd\u003eNaN\u003c/td\u003e\n      \u003ctd\u003eNaN\u003c/td\u003e\n      \u003ctd\u003eFalse\u003c/td\u003e\n      \u003ctd\u003eFalse\u003c/td\u003e\n    \u003c/tr\u003e\n    \u003ctr\u003e\n      \u003cth\u003e2\u003c/th\u003e\n      \u003ctd\u003e2020-02-26 18:00:00+00:00\u003c/td\u003e\n      \u003ctd\u003eITA\u003c/td\u003e\n      \u003ctd\u003e128\u003c/td\u003e\n      \u003ctd\u003e36\u003c/td\u003e\n      \u003ctd\u003e164\u003c/td\u003e\n      \u003ctd\u003e221\u003c/td\u003e\n      \u003ctd\u003e385\u003c/td\u003e\n      \u003ctd\u003e74\u003c/td\u003e\n      \u003ctd\u003e78\u003c/td\u003e\n      \u003ctd\u003e3\u003c/td\u003e\n      \u003ctd\u003e12\u003c/td\u003e\n      \u003ctd\u003eNaN\u003c/td\u003e\n      \u003ctd\u003eNaN\u003c/td\u003e\n      \u003ctd\u003e400\u003c/td\u003e\n      \u003ctd\u003e9587\u003c/td\u003e\n      \u003ctd\u003eNaN\u003c/td\u003e\n      \u003ctd\u003eNaN\u003c/td\u003e\n      \u003ctd\u003eNaN\u003c/td\u003e\n      \u003ctd\u003eNaN\u003c/td\u003e\n      \u003ctd\u003eNaN\u003c/td\u003e\n      \u003ctd\u003eNaN\u003c/td\u003e\n      \u003ctd\u003eNaN\u003c/td\u003e\n      \u003ctd\u003eNaN\u003c/td\u003e\n      \u003ctd\u003eNaN\u003c/td\u003e\n      \u003ctd\u003eFalse\u003c/td\u003e\n      \u003ctd\u003eFalse\u003c/td\u003e\n    \u003c/tr\u003e\n    \u003ctr\u003e\n      \u003cth\u003e3\u003c/th\u003e\n      \u003ctd\u003e2020-02-27 18:00:00+00:00\u003c/td\u003e\n      \u003ctd\u003eITA\u003c/td\u003e\n      \u003ctd\u003e248\u003c/td\u003e\n      \u003ctd\u003e56\u003c/td\u003e\n      \u003ctd\u003e304\u003c/td\u003e\n      \u003ctd\u003e284\u003c/td\u003e\n      \u003ctd\u003e588\u003c/td\u003e\n      \u003ctd\u003e203\u003c/td\u003e\n      \u003ctd\u003e250\u003c/td\u003e\n      \u003ctd\u003e45\u003c/td\u003e\n      \u003ctd\u003e17\u003c/td\u003e\n      \u003ctd\u003eNaN\u003c/td\u003e\n      \u003ctd\u003eNaN\u003c/td\u003e\n      \u003ctd\u003e650\u003c/td\u003e\n      \u003ctd\u003e12014\u003c/td\u003e\n      \u003ctd\u003eNaN\u003c/td\u003e\n      \u003ctd\u003eNaN\u003c/td\u003e\n      \u003ctd\u003eNaN\u003c/td\u003e\n      \u003ctd\u003eNaN\u003c/td\u003e\n      \u003ctd\u003eNaN\u003c/td\u003e\n      \u003ctd\u003eNaN\u003c/td\u003e\n      \u003ctd\u003eNaN\u003c/td\u003e\n      \u003ctd\u003eNaN\u003c/td\u003e\n      \u003ctd\u003eNaN\u003c/td\u003e\n      \u003ctd\u003eFalse\u003c/td\u003e\n      \u003ctd\u003eFalse\u003c/td\u003e\n    \u003c/tr\u003e\n    \u003ctr\u003e\n      \u003cth\u003e4\u003c/th\u003e\n      \u003ctd\u003e2020-02-28 18:00:00+00:00\u003c/td\u003e\n      \u003ctd\u003eITA\u003c/td\u003e\n      \u003ctd\u003e345\u003c/td\u003e\n      \u003ctd\u003e64\u003c/td\u003e\n      \u003ctd\u003e409\u003c/td\u003e\n      \u003ctd\u003e412\u003c/td\u003e\n      \u003ctd\u003e821\u003c/td\u003e\n      \u003ctd\u003e233\u003c/td\u003e\n      \u003ctd\u003e238\u003c/td\u003e\n      \u003ctd\u003e46\u003c/td\u003e\n      \u003ctd\u003e21\u003c/td\u003e\n      \u003ctd\u003eNaN\u003c/td\u003e\n      \u003ctd\u003eNaN\u003c/td\u003e\n      \u003ctd\u003e888\u003c/td\u003e\n      \u003ctd\u003e15695\u003c/td\u003e\n      \u003ctd\u003eNaN\u003c/td\u003e\n      \u003ctd\u003eNaN\u003c/td\u003e\n      \u003ctd\u003eNaN\u003c/td\u003e\n      \u003ctd\u003eNaN\u003c/td\u003e\n      \u003ctd\u003eNaN\u003c/td\u003e\n      \u003ctd\u003eNaN\u003c/td\u003e\n      \u003ctd\u003eNaN\u003c/td\u003e\n      \u003ctd\u003eNaN\u003c/td\u003e\n      \u003ctd\u003eNaN\u003c/td\u003e\n      \u003ctd\u003eFalse\u003c/td\u003e\n      \u003ctd\u003eFalse\u003c/td\u003e\n    \u003c/tr\u003e\n  \u003c/tbody\u003e\n\u003c/table\u003e\n\u003c/div\u003e"
          },
          "metadata": {}
        }
      ]
    },
    {
      "execution_count": 37,
      "cell_type": "code",
      "metadata": {},
      "source": [
        "#Set variables for ntile ranges from ntile_range_dataset in order to compare to full dataset\nfor num in range(1,11):\n    variables[\"standard\"][f\u0027n{num}\u0027] \u003d range(int(ntile10_df[\u0027nuovi_positivi_min\u0027][ntile10_df[\u0027ntile10\u0027] \u003d\u003d num]), int(ntile10_df[\u0027nuovi_positivi_max\u0027][ntile10_df[\u0027ntile10\u0027] \u003d\u003d num]))"
      ],
      "outputs": []
    },
    {
      "execution_count": 38,
      "cell_type": "code",
      "metadata": {},
      "source": [
        "ntile_dict \u003d {}\nfor row in dpc_df[\u0027nuovi_positivi\u0027]:\n    for ntile in range(1,11):\n        if row in variables[\"standard\"][f\u0027n{ntile}\u0027]:\n            ntile_dict[row] \u003d int(ntile)"
      ],
      "outputs": [
        {
          "output_type": "stream",
          "text": "1\n1\n1\n1\n1\n1\n2\n1\n2\n2\n2\n2\n2\n3\n3\n2\n3\n3\n3\n4\n4\n4\n4\n4\n5\n5\n5\n5\n5\n5\n5\n5\n5\n5\n5\n4\n4\n5\n4\n4\n5\n4\n4\n4\n4\n4\n4\n4\n4\n4\n4\n3\n4\n4\n4\n4\n3\n3\n4\n3\n4\n3\n3\n3\n3\n3\n3\n3\n3\n2\n2\n2\n3\n3\n2\n2\n2\n2\n3\n2\n2\n2\n2\n2\n2\n2\n2\n2\n2\n2\n1\n1\n2\n2\n2\n1\n1\n1\n1\n1\n1\n2\n1\n1\n1\n1\n1\n1\n1\n1\n1\n1\n1\n1\n1\n1\n1\n1\n1\n1\n1\n1\n1\n1\n1\n1\n1\n1\n1\n1\n1\n1\n1\n1\n1\n1\n1\n1\n1\n1\n1\n1\n1\n1\n1\n1\n1\n1\n1\n1\n1\n1\n1\n1\n1\n1\n1\n1\n1\n1\n1\n1\n1\n1\n2\n1\n2\n1\n1\n2\n2\n2\n2\n2\n1\n1\n2\n2\n2\n2\n2\n2\n2\n2\n3\n3\n3\n2\n2\n2\n2\n3\n3\n2\n2\n2\n3\n3\n3\n3\n3\n2\n2\n3\n3\n3\n3\n3\n2\n2\n3\n3\n3\n3\n3\n3\n3\n3\n3\n3\n4\n3\n3\n3\n4\n4\n5\n5\n5\n4\n5\n5\n6\n6\n6\n6\n6\n6\n7\n7\n8\n8\n8\n7\n8\n8\n8\n9\n9\n9\n8\n9\n9\n9\n9\n9\n9\n8\n9\n9\n9\n9\n9\n9\n9\n9\n9\n9\n9\n9\n9\n8\n8\n8\n9\n9\n8\n8\n7\n8\n8\n8\n8\n8\n8\n7\n7\n6\n7\n8\n8\n7\n6\n7\n7\n7\n7\n7\n6\n7\n7\n8\n6\n6\n6\n6\n7\n8\n8\n6\n7\n6\n7\n8\n7\n7\n8\n8\n6\n7\n7\n7\n7\n7\n6\n6\n6\n7\n7\n7\n7\n6\n6\n6\n7\n7\n7\n6\n6\n6\n6\n6\n7\n7\n7\n6\n6\n6\n6\n7\n7\n7\n6\n5\n6\n6\n7\n7\n7\n7\n6\n6\n7\n8\n8\n8\n7\n6\n7\n8\n8\n8\n8\n8\n7\n8\n8\n8\n8\n8\n8\n7\n8\n8\n8\n8\n8\n8\n7\n8\n8\n8\n8\n8\n8\n6\n7\n8\n8\n8\n8\n7\n6\n6\n7\n7\n8\n7\n7\n6\n7\n7\n7\n7\n7\n6\n6\n6\n7\n7\n7\n7\n6\n6\n6\n7\n7\n7\n6\n6\n5\n6\n6\n6\n6\n6\n6\n5\n5\n6\n6\n6\n5\n5\n4\n4\n5\n5\n5\n4\n3\n4\n4\n4\n4\n4\n4\n3\n3\n4\n3\n3\n3\n3\n2\n3\n3\n3\n3\n3\n2\n2\n2\n3\n2\n2\n2\n2\n2\n2\n2\n2\n2\n2\n2\n1\n2\n2\n2\n2\n2\n2\n2\n2\n2\n2\n2\n3\n2\n2\n3\n3\n3\n4\n4\n4\n3\n4\n4\n5\n5\n5\n5\n4\n4\n5\n5\n5\n5\n5\n4\n5\n5\n5\n5\n5\n5\n4\n5\n5\n5\n5\n5\n5\n4\n5\n5\n5\n5\n5\n5\n4\n5\n6\n5\n6\n5\n5\n4\n5\n5\n5\n5\n5\n5\n4\n5\n5\n5\n5\n5\n4\n3\n4\n5\n5\n4\n4\n4\n3\n4\n4\n4\n4\n4\n4\n3\n4\n4\n4\n4\n4\n4\n3\n3\n4\n4\n4\n3\n3\n3\n3\n3\n3\n3\n4\n3\n3\n3\n4\n4\n4\n4\n4\n3\n4\n4\n5\n5\n5\n4\n4\n5\n5\n5\n5\n5\n4\n5\n6\n6\n6\n6\n6\n5\n6\n6\n6\n6\n6\n6\n5\n6\n6\n7\n7\n6\n6\n6\n6\n7\n7\n7\n7\n7\n6\n7\n7\n6\n8\n8\n8\n6\n8\n8\n8\n9\n9\n8\n7\n9\n9\n9\n9\n9\n8\n9\n10\n10\n10\n10\n10\n10\n10\n10\n10\n10\n10\n10\n10\n10\n10\n10\n10\n10\n10\n10\n10\n10\n10\n10\n10\n10\n10\n10\n10\n10\n10\n10\n10\n9\n10\n10\n10\n10\n10\n10\n9\n10\n10\n10\n10\n10\n9\n9\n10\n10\n9\n9\n9\n9\n8\n10\n9\n9\n9\n9\n9\n7\n9\n9\n9\n9\n9\n9\n8\n10\n9\n9\n9\n9\n9\n9\n10\n10\n10\n10\n10\n10\n9\n10\n10\n10\n10\n10\n10\n9\n10\n10\n10\n10\n10\n9\n9\n10\n10\n10\n10\n10\n9\n9\n10\n10\n10\n10\n10\n9\n8\n10\n10\n10\n10\n9\n8\n9\n10\n10\n9\n9\n8\n10\n9\n9\n9\n9\n9\n7\n9\n9\n9\n9\n9\n8\n7\n9\n9\n9\n8\n8\n7\n6\n9\n8\n8\n8\n8\n7\n8\n8\n7\n6\n8\n7\n6\n9\n8\n",
          "name": "stdout"
        }
      ]
    },
    {
      "execution_count": 0,
      "cell_type": "code",
      "metadata": {},
      "source": [
        "dpc_df[\u0027ntile\u0027] \u003d dpc_df[\u0027nuovi_positivi\u0027].map(ntile_dict).apply()"
      ],
      "outputs": []
    },
    {
      "execution_count": 0,
      "cell_type": "code",
      "metadata": {},
      "source": [
        "test_variable_set \u003d dataiku.Dataset(\"test_variable_set\")\ntest_variable_set.write_with_schema(dpc_df)"
      ],
      "outputs": []
    }
  ]
}