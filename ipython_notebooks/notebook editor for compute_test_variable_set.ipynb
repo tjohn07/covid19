{
  "metadata": {
    "kernelspec": {
      "name": "py-dku-venv-python37_holidays",
      "display_name": "Python (env python37_holidays)",
      "language": "python"
    },
    "associatedRecipe": "compute_test_variable_set",
    "creator": "admin",
    "createdOn": 1654709825699,
    "tags": [
      "recipe-editor"
    ],
    "customFields": {},
    "hide_input": false,
    "language_info": {
      "name": "python",
      "version": "3.7.9",
      "mimetype": "text/x-python",
      "codemirror_mode": {
        "name": "ipython",
        "version": 3
      },
      "pygments_lexer": "ipython3",
      "nbconvert_exporter": "python",
      "file_extension": ".py"
    },
    "modifiedBy": "admin"
  },
  "nbformat": 4,
  "nbformat_minor": 1,
  "cells": [
    {
      "execution_count": 32,
      "cell_type": "code",
      "metadata": {},
      "source": [
        "# -*- coding: utf-8 -*-\nimport dataiku\nimport pandas as pd, numpy as np\nfrom dataiku import pandasutils as pdu\nfrom dataiku.scenario import Trigger\n\n\n# Accessing the DSS Global/Project Variables\nproj \u003d dataiku.Project()\nvariables \u003d proj.get_variables()"
      ],
      "outputs": []
    },
    {
      "execution_count": 33,
      "cell_type": "code",
      "metadata": {},
      "source": [
        "ntile10_dataset \u003d dataiku.Dataset(\"dpc_covid19_prepared_windows_by_ntile10\")\ndpc_dataset \u003d dataiku.Dataset(\"dpc_covid19_prepared\")"
      ],
      "outputs": []
    },
    {
      "execution_count": 34,
      "cell_type": "code",
      "metadata": {},
      "source": [
        "ntile10_df \u003d ntile10_dataset.get_dataframe()\ndpc_df \u003d dpc_dataset.get_dataframe()"
      ],
      "outputs": [
        {
          "output_type": "stream",
          "text": "/Users/terrijohn/Library/dss/design/code-envs/python/python37_holidays/lib/python3.7/site-packages/pandas/core/indexes/base.py:395: DeprecationWarning: `np.bool` is a deprecated alias for the builtin `bool`. To silence this warning, use `bool` by itself. Doing this will not modify any behavior and is safe. If you specifically wanted the numpy scalar type, use `np.bool_` here.\nDeprecated in NumPy 1.20; for more details and guidance: https://numpy.org/devdocs/release/1.20.0-notes.html#deprecations\n  elif issubclass(data.dtype.type, np.bool) or is_bool_dtype(data):\n",
          "name": "stderr"
        }
      ]
    },
    {
      "execution_count": 35,
      "cell_type": "code",
      "metadata": {},
      "source": [
        "ntile10_df.head()"
      ],
      "outputs": [
        {
          "output_type": "execute_result",
          "execution_count": 35,
          "data": {
            "text/plain": "   ntile10  nuovi_positivi_min  nuovi_positivi_max  nuovi_positivi_avg  nuovi_positivi_sum  nuovi_positivi_stddev  count\n0        1                  78                 451          253.000000               21252              84.220022     84\n1        2                 463                1397          918.452381               77150             294.270362     84\n2        3                1400                2818         2035.096386              168913             456.517374     83\n3        4                2834                4717         3713.726190              311953             554.433464     84\n4        5                4720                7537         5963.337349              494957             817.652847     83",
            "text/html": "\u003cdiv\u003e\n\u003cstyle scoped\u003e\n    .dataframe tbody tr th:only-of-type {\n        vertical-align: middle;\n    }\n\n    .dataframe tbody tr th {\n        vertical-align: top;\n    }\n\n    .dataframe thead th {\n        text-align: right;\n    }\n\u003c/style\u003e\n\u003ctable border\u003d\"1\" class\u003d\"dataframe\"\u003e\n  \u003cthead\u003e\n    \u003ctr style\u003d\"text-align: right;\"\u003e\n      \u003cth\u003e\u003c/th\u003e\n      \u003cth\u003entile10\u003c/th\u003e\n      \u003cth\u003enuovi_positivi_min\u003c/th\u003e\n      \u003cth\u003enuovi_positivi_max\u003c/th\u003e\n      \u003cth\u003enuovi_positivi_avg\u003c/th\u003e\n      \u003cth\u003enuovi_positivi_sum\u003c/th\u003e\n      \u003cth\u003enuovi_positivi_stddev\u003c/th\u003e\n      \u003cth\u003ecount\u003c/th\u003e\n    \u003c/tr\u003e\n  \u003c/thead\u003e\n  \u003ctbody\u003e\n    \u003ctr\u003e\n      \u003cth\u003e0\u003c/th\u003e\n      \u003ctd\u003e1\u003c/td\u003e\n      \u003ctd\u003e78\u003c/td\u003e\n      \u003ctd\u003e451\u003c/td\u003e\n      \u003ctd\u003e253.000000\u003c/td\u003e\n      \u003ctd\u003e21252\u003c/td\u003e\n      \u003ctd\u003e84.220022\u003c/td\u003e\n      \u003ctd\u003e84\u003c/td\u003e\n    \u003c/tr\u003e\n    \u003ctr\u003e\n      \u003cth\u003e1\u003c/th\u003e\n      \u003ctd\u003e2\u003c/td\u003e\n      \u003ctd\u003e463\u003c/td\u003e\n      \u003ctd\u003e1397\u003c/td\u003e\n      \u003ctd\u003e918.452381\u003c/td\u003e\n      \u003ctd\u003e77150\u003c/td\u003e\n      \u003ctd\u003e294.270362\u003c/td\u003e\n      \u003ctd\u003e84\u003c/td\u003e\n    \u003c/tr\u003e\n    \u003ctr\u003e\n      \u003cth\u003e2\u003c/th\u003e\n      \u003ctd\u003e3\u003c/td\u003e\n      \u003ctd\u003e1400\u003c/td\u003e\n      \u003ctd\u003e2818\u003c/td\u003e\n      \u003ctd\u003e2035.096386\u003c/td\u003e\n      \u003ctd\u003e168913\u003c/td\u003e\n      \u003ctd\u003e456.517374\u003c/td\u003e\n      \u003ctd\u003e83\u003c/td\u003e\n    \u003c/tr\u003e\n    \u003ctr\u003e\n      \u003cth\u003e3\u003c/th\u003e\n      \u003ctd\u003e4\u003c/td\u003e\n      \u003ctd\u003e2834\u003c/td\u003e\n      \u003ctd\u003e4717\u003c/td\u003e\n      \u003ctd\u003e3713.726190\u003c/td\u003e\n      \u003ctd\u003e311953\u003c/td\u003e\n      \u003ctd\u003e554.433464\u003c/td\u003e\n      \u003ctd\u003e84\u003c/td\u003e\n    \u003c/tr\u003e\n    \u003ctr\u003e\n      \u003cth\u003e4\u003c/th\u003e\n      \u003ctd\u003e5\u003c/td\u003e\n      \u003ctd\u003e4720\u003c/td\u003e\n      \u003ctd\u003e7537\u003c/td\u003e\n      \u003ctd\u003e5963.337349\u003c/td\u003e\n      \u003ctd\u003e494957\u003c/td\u003e\n      \u003ctd\u003e817.652847\u003c/td\u003e\n      \u003ctd\u003e83\u003c/td\u003e\n    \u003c/tr\u003e\n  \u003c/tbody\u003e\n\u003c/table\u003e\n\u003c/div\u003e"
          },
          "metadata": {}
        }
      ]
    },
    {
      "execution_count": 36,
      "cell_type": "code",
      "metadata": {},
      "source": [
        "dpc_df.head()"
      ],
      "outputs": [
        {
          "output_type": "execute_result",
          "execution_count": 36,
          "data": {
            "text/plain": "                       data stato  ricoverati_con_sintomi  terapia_intensiva  totale_ospedalizzati  isolamento_domiciliare  totale_positivi  variazione_totale_positivi  nuovi_positivi  dimessi_guariti  deceduti  casi_da_sospetto_diagnostico  casi_da_screening  totale_casi  tamponi  casi_testati note  ingressi_terapia_intensiva  note_test  note_casi  totale_positivi_test_molecolare  totale_positivi_test_antigenico_rapido  tamponi_test_molecolare  tamponi_test_antigenico_rapido  is_holiday  is_weekend\n0 2020-02-24 18:00:00+00:00   ITA                     101                 26                   127                      94              221                           0             221                1         7                           NaN                NaN          229     4324           NaN  NaN                         NaN        NaN        NaN                              NaN                                     NaN                      NaN                             NaN       False       False\n1 2020-02-25 18:00:00+00:00   ITA                     114                 35                   150                     162              311                          90              93                1        10                           NaN                NaN          322     8623           NaN  NaN                         NaN        NaN        NaN                              NaN                                     NaN                      NaN                             NaN       False       False\n2 2020-02-26 18:00:00+00:00   ITA                     128                 36                   164                     221              385                          74              78                3        12                           NaN                NaN          400     9587           NaN  NaN                         NaN        NaN        NaN                              NaN                                     NaN                      NaN                             NaN       False       False\n3 2020-02-27 18:00:00+00:00   ITA                     248                 56                   304                     284              588                         203             250               45        17                           NaN                NaN          650    12014           NaN  NaN                         NaN        NaN        NaN                              NaN                                     NaN                      NaN                             NaN       False       False\n4 2020-02-28 18:00:00+00:00   ITA                     345                 64                   409                     412              821                         233             238               46        21                           NaN                NaN          888    15695           NaN  NaN                         NaN        NaN        NaN                              NaN                                     NaN                      NaN                             NaN       False       False",
            "text/html": "\u003cdiv\u003e\n\u003cstyle scoped\u003e\n    .dataframe tbody tr th:only-of-type {\n        vertical-align: middle;\n    }\n\n    .dataframe tbody tr th {\n        vertical-align: top;\n    }\n\n    .dataframe thead th {\n        text-align: right;\n    }\n\u003c/style\u003e\n\u003ctable border\u003d\"1\" class\u003d\"dataframe\"\u003e\n  \u003cthead\u003e\n    \u003ctr style\u003d\"text-align: right;\"\u003e\n      \u003cth\u003e\u003c/th\u003e\n      \u003cth\u003edata\u003c/th\u003e\n      \u003cth\u003estato\u003c/th\u003e\n      \u003cth\u003ericoverati_con_sintomi\u003c/th\u003e\n      \u003cth\u003eterapia_intensiva\u003c/th\u003e\n      \u003cth\u003etotale_ospedalizzati\u003c/th\u003e\n      \u003cth\u003eisolamento_domiciliare\u003c/th\u003e\n      \u003cth\u003etotale_positivi\u003c/th\u003e\n      \u003cth\u003evariazione_totale_positivi\u003c/th\u003e\n      \u003cth\u003enuovi_positivi\u003c/th\u003e\n      \u003cth\u003edimessi_guariti\u003c/th\u003e\n      \u003cth\u003edeceduti\u003c/th\u003e\n      \u003cth\u003ecasi_da_sospetto_diagnostico\u003c/th\u003e\n      \u003cth\u003ecasi_da_screening\u003c/th\u003e\n      \u003cth\u003etotale_casi\u003c/th\u003e\n      \u003cth\u003etamponi\u003c/th\u003e\n      \u003cth\u003ecasi_testati\u003c/th\u003e\n      \u003cth\u003enote\u003c/th\u003e\n      \u003cth\u003eingressi_terapia_intensiva\u003c/th\u003e\n      \u003cth\u003enote_test\u003c/th\u003e\n      \u003cth\u003enote_casi\u003c/th\u003e\n      \u003cth\u003etotale_positivi_test_molecolare\u003c/th\u003e\n      \u003cth\u003etotale_positivi_test_antigenico_rapido\u003c/th\u003e\n      \u003cth\u003etamponi_test_molecolare\u003c/th\u003e\n      \u003cth\u003etamponi_test_antigenico_rapido\u003c/th\u003e\n      \u003cth\u003eis_holiday\u003c/th\u003e\n      \u003cth\u003eis_weekend\u003c/th\u003e\n    \u003c/tr\u003e\n  \u003c/thead\u003e\n  \u003ctbody\u003e\n    \u003ctr\u003e\n      \u003cth\u003e0\u003c/th\u003e\n      \u003ctd\u003e2020-02-24 18:00:00+00:00\u003c/td\u003e\n      \u003ctd\u003eITA\u003c/td\u003e\n      \u003ctd\u003e101\u003c/td\u003e\n      \u003ctd\u003e26\u003c/td\u003e\n      \u003ctd\u003e127\u003c/td\u003e\n      \u003ctd\u003e94\u003c/td\u003e\n      \u003ctd\u003e221\u003c/td\u003e\n      \u003ctd\u003e0\u003c/td\u003e\n      \u003ctd\u003e221\u003c/td\u003e\n      \u003ctd\u003e1\u003c/td\u003e\n      \u003ctd\u003e7\u003c/td\u003e\n      \u003ctd\u003eNaN\u003c/td\u003e\n      \u003ctd\u003eNaN\u003c/td\u003e\n      \u003ctd\u003e229\u003c/td\u003e\n      \u003ctd\u003e4324\u003c/td\u003e\n      \u003ctd\u003eNaN\u003c/td\u003e\n      \u003ctd\u003eNaN\u003c/td\u003e\n      \u003ctd\u003eNaN\u003c/td\u003e\n      \u003ctd\u003eNaN\u003c/td\u003e\n      \u003ctd\u003eNaN\u003c/td\u003e\n      \u003ctd\u003eNaN\u003c/td\u003e\n      \u003ctd\u003eNaN\u003c/td\u003e\n      \u003ctd\u003eNaN\u003c/td\u003e\n      \u003ctd\u003eNaN\u003c/td\u003e\n      \u003ctd\u003eFalse\u003c/td\u003e\n      \u003ctd\u003eFalse\u003c/td\u003e\n    \u003c/tr\u003e\n    \u003ctr\u003e\n      \u003cth\u003e1\u003c/th\u003e\n      \u003ctd\u003e2020-02-25 18:00:00+00:00\u003c/td\u003e\n      \u003ctd\u003eITA\u003c/td\u003e\n      \u003ctd\u003e114\u003c/td\u003e\n      \u003ctd\u003e35\u003c/td\u003e\n      \u003ctd\u003e150\u003c/td\u003e\n      \u003ctd\u003e162\u003c/td\u003e\n      \u003ctd\u003e311\u003c/td\u003e\n      \u003ctd\u003e90\u003c/td\u003e\n      \u003ctd\u003e93\u003c/td\u003e\n      \u003ctd\u003e1\u003c/td\u003e\n      \u003ctd\u003e10\u003c/td\u003e\n      \u003ctd\u003eNaN\u003c/td\u003e\n      \u003ctd\u003eNaN\u003c/td\u003e\n      \u003ctd\u003e322\u003c/td\u003e\n      \u003ctd\u003e8623\u003c/td\u003e\n      \u003ctd\u003eNaN\u003c/td\u003e\n      \u003ctd\u003eNaN\u003c/td\u003e\n      \u003ctd\u003eNaN\u003c/td\u003e\n      \u003ctd\u003eNaN\u003c/td\u003e\n      \u003ctd\u003eNaN\u003c/td\u003e\n      \u003ctd\u003eNaN\u003c/td\u003e\n      \u003ctd\u003eNaN\u003c/td\u003e\n      \u003ctd\u003eNaN\u003c/td\u003e\n      \u003ctd\u003eNaN\u003c/td\u003e\n      \u003ctd\u003eFalse\u003c/td\u003e\n      \u003ctd\u003eFalse\u003c/td\u003e\n    \u003c/tr\u003e\n    \u003ctr\u003e\n      \u003cth\u003e2\u003c/th\u003e\n      \u003ctd\u003e2020-02-26 18:00:00+00:00\u003c/td\u003e\n      \u003ctd\u003eITA\u003c/td\u003e\n      \u003ctd\u003e128\u003c/td\u003e\n      \u003ctd\u003e36\u003c/td\u003e\n      \u003ctd\u003e164\u003c/td\u003e\n      \u003ctd\u003e221\u003c/td\u003e\n      \u003ctd\u003e385\u003c/td\u003e\n      \u003ctd\u003e74\u003c/td\u003e\n      \u003ctd\u003e78\u003c/td\u003e\n      \u003ctd\u003e3\u003c/td\u003e\n      \u003ctd\u003e12\u003c/td\u003e\n      \u003ctd\u003eNaN\u003c/td\u003e\n      \u003ctd\u003eNaN\u003c/td\u003e\n      \u003ctd\u003e400\u003c/td\u003e\n      \u003ctd\u003e9587\u003c/td\u003e\n      \u003ctd\u003eNaN\u003c/td\u003e\n      \u003ctd\u003eNaN\u003c/td\u003e\n      \u003ctd\u003eNaN\u003c/td\u003e\n      \u003ctd\u003eNaN\u003c/td\u003e\n      \u003ctd\u003eNaN\u003c/td\u003e\n      \u003ctd\u003eNaN\u003c/td\u003e\n      \u003ctd\u003eNaN\u003c/td\u003e\n      \u003ctd\u003eNaN\u003c/td\u003e\n      \u003ctd\u003eNaN\u003c/td\u003e\n      \u003ctd\u003eFalse\u003c/td\u003e\n      \u003ctd\u003eFalse\u003c/td\u003e\n    \u003c/tr\u003e\n    \u003ctr\u003e\n      \u003cth\u003e3\u003c/th\u003e\n      \u003ctd\u003e2020-02-27 18:00:00+00:00\u003c/td\u003e\n      \u003ctd\u003eITA\u003c/td\u003e\n      \u003ctd\u003e248\u003c/td\u003e\n      \u003ctd\u003e56\u003c/td\u003e\n      \u003ctd\u003e304\u003c/td\u003e\n      \u003ctd\u003e284\u003c/td\u003e\n      \u003ctd\u003e588\u003c/td\u003e\n      \u003ctd\u003e203\u003c/td\u003e\n      \u003ctd\u003e250\u003c/td\u003e\n      \u003ctd\u003e45\u003c/td\u003e\n      \u003ctd\u003e17\u003c/td\u003e\n      \u003ctd\u003eNaN\u003c/td\u003e\n      \u003ctd\u003eNaN\u003c/td\u003e\n      \u003ctd\u003e650\u003c/td\u003e\n      \u003ctd\u003e12014\u003c/td\u003e\n      \u003ctd\u003eNaN\u003c/td\u003e\n      \u003ctd\u003eNaN\u003c/td\u003e\n      \u003ctd\u003eNaN\u003c/td\u003e\n      \u003ctd\u003eNaN\u003c/td\u003e\n      \u003ctd\u003eNaN\u003c/td\u003e\n      \u003ctd\u003eNaN\u003c/td\u003e\n      \u003ctd\u003eNaN\u003c/td\u003e\n      \u003ctd\u003eNaN\u003c/td\u003e\n      \u003ctd\u003eNaN\u003c/td\u003e\n      \u003ctd\u003eFalse\u003c/td\u003e\n      \u003ctd\u003eFalse\u003c/td\u003e\n    \u003c/tr\u003e\n    \u003ctr\u003e\n      \u003cth\u003e4\u003c/th\u003e\n      \u003ctd\u003e2020-02-28 18:00:00+00:00\u003c/td\u003e\n      \u003ctd\u003eITA\u003c/td\u003e\n      \u003ctd\u003e345\u003c/td\u003e\n      \u003ctd\u003e64\u003c/td\u003e\n      \u003ctd\u003e409\u003c/td\u003e\n      \u003ctd\u003e412\u003c/td\u003e\n      \u003ctd\u003e821\u003c/td\u003e\n      \u003ctd\u003e233\u003c/td\u003e\n      \u003ctd\u003e238\u003c/td\u003e\n      \u003ctd\u003e46\u003c/td\u003e\n      \u003ctd\u003e21\u003c/td\u003e\n      \u003ctd\u003eNaN\u003c/td\u003e\n      \u003ctd\u003eNaN\u003c/td\u003e\n      \u003ctd\u003e888\u003c/td\u003e\n      \u003ctd\u003e15695\u003c/td\u003e\n      \u003ctd\u003eNaN\u003c/td\u003e\n      \u003ctd\u003eNaN\u003c/td\u003e\n      \u003ctd\u003eNaN\u003c/td\u003e\n      \u003ctd\u003eNaN\u003c/td\u003e\n      \u003ctd\u003eNaN\u003c/td\u003e\n      \u003ctd\u003eNaN\u003c/td\u003e\n      \u003ctd\u003eNaN\u003c/td\u003e\n      \u003ctd\u003eNaN\u003c/td\u003e\n      \u003ctd\u003eNaN\u003c/td\u003e\n      \u003ctd\u003eFalse\u003c/td\u003e\n      \u003ctd\u003eFalse\u003c/td\u003e\n    \u003c/tr\u003e\n  \u003c/tbody\u003e\n\u003c/table\u003e\n\u003c/div\u003e"
          },
          "metadata": {}
        }
      ]
    },
    {
      "execution_count": 37,
      "cell_type": "code",
      "metadata": {},
      "source": [
        "#Set variables for ntile ranges in order to compare to other dataset \nfor num in range(1,11):\n    variables[\"standard\"][f\u0027n{num}\u0027] \u003d range(int(df[\u0027nuovi_positivi_min\u0027][df[\u0027ntile10\u0027] \u003d\u003d num]), int(df[\u0027nuovi_positivi_max\u0027][df[\u0027ntile10\u0027] \u003d\u003d num]))"
      ],
      "outputs": []
    },
    {
      "execution_count": 38,
      "cell_type": "code",
      "metadata": {},
      "source": [
        "variables[\"standard\"]"
      ],
      "outputs": [
        {
          "output_type": "execute_result",
          "execution_count": 38,
          "data": {
            "text/plain": "{\u0027url\u0027: \u0027https://raw.githubusercontent.com/pcm-dpc/COVID-19/master/dati-andamento-nazionale/dpc-covid19-ita-andamento-nazionale.csv\u0027,\n \u0027csv_name\u0027: \u0027dpc_covid19_ita_andamento_nazionale_df\u0027,\n \u0027min_new_daily_pos\u0027: 74,\n \u0027max_new_daily_pos\u0027: 220532,\n \u0027n1\u0027: range(78, 451),\n \u0027n2\u0027: range(463, 1397),\n \u0027n3\u0027: range(1400, 2818),\n \u0027n4\u0027: range(2834, 4717),\n \u0027n5\u0027: range(4720, 7537),\n \u0027n6\u0027: range(7548, 13318),\n \u0027n7\u0027: range(13331, 18236),\n \u0027n8\u0027: range(18255, 27214),\n \u0027n9\u0027: range(27354, 58861),\n \u0027n10\u0027: range(59555, 220532)}"
          },
          "metadata": {}
        }
      ]
    },
    {
      "execution_count": 25,
      "cell_type": "code",
      "metadata": {},
      "source": [
        "# 79 in variables[\"standard\"][\u0027n1\u0027]"
      ],
      "outputs": [
        {
          "output_type": "execute_result",
          "execution_count": 25,
          "data": {
            "text/plain": "True"
          },
          "metadata": {}
        }
      ]
    },
    {
      "execution_count": 41,
      "cell_type": "code",
      "metadata": {},
      "source": [
        "for row in dpc_df[\u0027nuovi_positivi\u0027]:\n    for ntile in range(1,11):\n        if row in variables[\"standard\"][f\u0027n{ntile}\u0027]:\n            print(row, ntile)"
      ],
      "outputs": [
        {
          "output_type": "stream",
          "text": "221\n93\n78\n250\n238\n240\n566\n342\n466\n587\n769\n778\n1247\n1492\n1797\n977\n2313\n2651\n2547\n3497\n3590\n3233\n3526\n4207\n5322\n5986\n6557\n5560\n4789\n5249\n5210\n6153\n5959\n5974\n5217\n4050\n4053\n4782\n4668\n4585\n4805\n4316\n3599\n3039\n3836\n4204\n3951\n4694\n4092\n3153\n2972\n2667\n3786\n3493\n3491\n3047\n2256\n2729\n3370\n2646\n3021\n2357\n2324\n1739\n2091\n2086\n1872\n1965\n1900\n1389\n1221\n1075\n1444\n1401\n1327\n1083\n802\n744\n1402\n888\n992\n789\n875\n675\n451\n813\n665\n642\n652\n669\n531\n300\n397\n584\n593\n516\n416\n355\n178\n318\n321\n177\n518\n270\n197\n280\n283\n202\n379\n163\n346\n338\n303\n210\n329\n333\n251\n262\n224\n218\n122\n190\n296\n259\n175\n174\n126\n142\n187\n201\n223\n235\n192\n208\n138\n193\n229\n276\n188\n234\n169\n114\n163\n230\n233\n249\n219\n190\n129\n282\n306\n252\n275\n255\n170\n212\n289\n386\n379\n295\n239\n159\n190\n384\n402\n552\n347\n463\n259\n412\n481\n523\n574\n629\n479\n320\n403\n642\n845\n947\n1071\n1210\n953\n878\n1367\n1411\n1462\n1444\n1365\n996\n978\n1326\n1397\n1733\n1694\n1297\n1108\n1370\n1434\n1597\n1616\n1501\n1458\n1008\n1229\n1452\n1585\n1907\n1638\n1587\n1350\n1392\n1640\n1786\n1912\n1869\n1766\n1494\n1648\n1851\n2548\n2499\n2844\n2578\n2257\n2677\n3678\n4458\n5372\n5724\n5456\n4619\n5901\n7332\n8804\n10010\n10925\n11705\n9338\n10874\n15199\n16079\n19143\n19644\n21273\n17012\n21994\n24991\n26831\n31084\n31758\n29907\n22253\n28244\n30550\n34505\n37809\n39811\n32616\n25271\n35098\n32961\n37978\n40902\n37255\n33979\n27354\n32191\n34282\n36176\n37242\n34767\n28337\n22930\n23232\n25853\n29003\n28352\n26323\n20648\n16377\n19350\n20709\n23225\n24099\n21052\n18887\n13720\n14842\n12756\n16999\n18727\n19903\n17938\n12030\n14844\n17572\n18236\n17992\n16308\n15104\n10872\n13318\n14522\n18040\n19037\n10431\n8913\n8585\n11224\n16202\n23477\n22211\n11831\n14245\n10800\n15378\n20331\n18020\n17533\n19978\n18627\n12532\n14242\n15774\n17246\n16146\n16310\n12545\n8825\n10497\n13571\n14078\n13633\n13331\n11629\n8562\n10593\n15204\n14372\n13574\n12715\n11252\n7925\n9660\n13189\n13659\n14218\n13442\n11641\n7970\n10630\n12956\n15146\n13908\n13532\n11068\n7351\n10386\n12074\n13762\n15479\n14931\n13452\n9630\n13314\n16424\n19886\n20499\n18916\n17455\n13114\n17083\n20884\n22865\n24036\n23641\n20765\n13902\n19749\n22409\n25673\n26824\n26062\n21315\n15267\n20396\n23059\n24935\n25735\n23832\n20159\n13846\n18765\n21267\n23798\n23987\n23776\n19611\n12916\n16013\n22516\n23649\n21932\n21261\n18025\n10680\n7767\n13708\n17221\n18938\n17567\n15746\n9789\n13447\n16168\n16974\n15943\n15370\n12694\n8864\n12074\n13844\n16050\n14761\n13817\n13158\n8444\n10404\n13385\n14320\n13446\n12965\n9148\n5948\n9116\n10585\n11807\n10554\n10176\n8292\n5080\n6946\n7852\n8085\n7567\n6659\n5753\n3455\n4452\n5506\n5741\n5218\n4717\n3995\n2490\n3224\n3937\n4147\n3738\n3351\n2949\n1820\n2483\n2897\n1968\n2557\n2436\n2275\n1273\n1896\n2199\n2079\n1901\n1723\n1390\n907\n1255\n1400\n1325\n1147\n1197\n881\n495\n835\n951\n927\n753\n838\n782\n389\n679\n776\n882\n794\n932\n808\n480\n907\n1010\n1394\n1390\n1400\n1391\n888\n1534\n2153\n2455\n2898\n3121\n3127\n2072\n3558\n4259\n5057\n5143\n5140\n4743\n3117\n4522\n5696\n6171\n6619\n6513\n5321\n3190\n4845\n6596\n7230\n6599\n6902\n5735\n4200\n5636\n6968\n7270\n7409\n7188\n5664\n3674\n5273\n7162\n7260\n7224\n7470\n5923\n4168\n6076\n7548\n7221\n7826\n6860\n5959\n4257\n5498\n6503\n6761\n6735\n6157\n5315\n3361\n4720\n5923\n5522\n5621\n5193\n4664\n2800\n4021\n4830\n5117\n4552\n4578\n3838\n2407\n3377\n3970\n4061\n3797\n3525\n3099\n1772\n2985\n3212\n3804\n3405\n3312\n2968\n1612\n2466\n3235\n2938\n3023\n2748\n2278\n1516\n2494\n2772\n2668\n2732\n2983\n2437\n1597\n2697\n3702\n3794\n3882\n3908\n3725\n2535\n4054\n4598\n4866\n5335\n4878\n4526\n2818\n2834\n5188\n5905\n6764\n6764\n5822\n4197\n6032\n7891\n8569\n8516\n8544\n7569\n5144\n7698\n10172\n10638\n10544\n11555\n9709\n6404\n10047\n12448\n13764\n13686\n12877\n12932\n7975\n12764\n15085\n16806\n17030\n16632\n15021\n9503\n15756\n17959\n12527\n20497\n21042\n19215\n12712\n20677\n23195\n26109\n28632\n28064\n24259\n16213\n30798\n36293\n44595\n50599\n54762\n24883\n30810\n78313\n98030\n126888\n144243\n141358\n61046\n68052\n170844\n189109\n219441\n108304\n197552\n155659\n101762\n220532\n196224\n184615\n186253\n180426\n149512\n83403\n212004\n192320\n188797\n179106\n171263\n138860\n77696\n190514\n167206\n155697\n143898\n137147\n104065\n57715\n133142\n118994\n112691\n99522\n93157\n78952\n41247\n101864\n81367\n75861\n67152\n62231\n51959\n28630\n70852\n59749\n57890\n53662\n50534\n42081\n24408\n60029\n49040\n46169\n40948\n38375\n30629\n17981\n46631\n36429\n41500\n38095\n39963\n35057\n22083\n60191\n48483\n54230\n53127\n53825\n48886\n28900\n85288\n72568\n79895\n76250\n74024\n60415\n32573\n96365\n76260\n81811\n75616\n73357\n59555\n30710\n99457\n77621\n73195\n74350\n70803\n53588\n30630\n88173\n69278\n69596\n66535\n63992\n51376\n28368\n83643\n62037\n64951\n61555\n63815\n51993\n18380\n27214\n99848\n75020\n73212\n70520\n56263\n24878\n29575\n87940\n69204\n58861\n53602\n40757\n18896\n62071\n47039\n48255\n43947\n40522\n30804\n17155\n56015\n42249\n39317\n38507\n36042\n27162\n13668\n44489\n30408\n30310\n26561\n23976\n17744\n9820\n31024\n22438\n22093\n19666\n18255\n14826\n7537\n24267\n18391\n17193\n9429\n22527\n15082\n8512\n28082\n22361\n",
          "name": "stdout"
        }
      ]
    },
    {
      "execution_count": 0,
      "cell_type": "code",
      "metadata": {},
      "source": [
        ""
      ],
      "outputs": []
    },
    {
      "execution_count": 0,
      "cell_type": "code",
      "metadata": {},
      "source": [
        ""
      ],
      "outputs": []
    },
    {
      "execution_count": 0,
      "cell_type": "code",
      "metadata": {},
      "source": [
        ""
      ],
      "outputs": []
    }
  ]
}