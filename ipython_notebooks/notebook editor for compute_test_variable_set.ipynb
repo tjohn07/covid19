{
  "metadata": {
    "kernelspec": {
      "name": "py-dku-venv-python37_holidays",
      "display_name": "Python (env python37_holidays)",
      "language": "python"
    },
    "associatedRecipe": "compute_test_variable_set",
    "creator": "admin",
    "createdOn": 1654709825699,
    "tags": [
      "recipe-editor"
    ],
    "customFields": {},
    "hide_input": false,
    "language_info": {
      "name": "python",
      "version": "3.7.9",
      "mimetype": "text/x-python",
      "codemirror_mode": {
        "name": "ipython",
        "version": 3
      },
      "pygments_lexer": "ipython3",
      "nbconvert_exporter": "python",
      "file_extension": ".py"
    },
    "modifiedBy": "admin"
  },
  "nbformat": 4,
  "nbformat_minor": 1,
  "cells": [
    {
      "execution_count": 1,
      "cell_type": "code",
      "metadata": {},
      "source": [
        "# -*- coding: utf-8 -*-\nimport dataiku\nimport pandas as pd, numpy as np\nfrom dataiku import pandasutils as pdu\nfrom dataiku.scenario import Trigger\n\n\n# Accessing the DSS Global/Project Variables\nproj \u003d dataiku.Project()\nvariables \u003d proj.get_variables()"
      ],
      "outputs": []
    },
    {
      "execution_count": 10,
      "cell_type": "code",
      "metadata": {},
      "source": [
        "dpc_dataset \u003d dataiku.Dataset(\"dpc_covid19_prepared_windows_by_ntile10\")\n"
      ],
      "outputs": []
    },
    {
      "execution_count": 14,
      "cell_type": "code",
      "metadata": {},
      "source": [
        "df \u003d dpc_dataset.get_dataframe()"
      ],
      "outputs": [
        {
          "output_type": "stream",
          "text": "/Users/terrijohn/Library/dss/design/code-envs/python/python37_holidays/lib/python3.7/site-packages/pandas/core/indexes/base.py:395: DeprecationWarning: `np.bool` is a deprecated alias for the builtin `bool`. To silence this warning, use `bool` by itself. Doing this will not modify any behavior and is safe. If you specifically wanted the numpy scalar type, use `np.bool_` here.\nDeprecated in NumPy 1.20; for more details and guidance: https://numpy.org/devdocs/release/1.20.0-notes.html#deprecations\n  elif issubclass(data.dtype.type, np.bool) or is_bool_dtype(data):\n",
          "name": "stderr"
        }
      ]
    },
    {
      "execution_count": 15,
      "cell_type": "code",
      "metadata": {},
      "source": [
        "df.head()"
      ],
      "outputs": [
        {
          "output_type": "execute_result",
          "execution_count": 15,
          "data": {
            "text/plain": "   ntile10  nuovi_positivi_min  nuovi_positivi_max  nuovi_positivi_avg  nuovi_positivi_sum  nuovi_positivi_stddev  count\n0        1                  78                 451          253.000000               21252              84.220022     84\n1        2                 463                1397          918.452381               77150             294.270362     84\n2        3                1400                2818         2035.096386              168913             456.517374     83\n3        4                2834                4717         3713.726190              311953             554.433464     84\n4        5                4720                7537         5963.337349              494957             817.652847     83",
            "text/html": "\u003cdiv\u003e\n\u003cstyle scoped\u003e\n    .dataframe tbody tr th:only-of-type {\n        vertical-align: middle;\n    }\n\n    .dataframe tbody tr th {\n        vertical-align: top;\n    }\n\n    .dataframe thead th {\n        text-align: right;\n    }\n\u003c/style\u003e\n\u003ctable border\u003d\"1\" class\u003d\"dataframe\"\u003e\n  \u003cthead\u003e\n    \u003ctr style\u003d\"text-align: right;\"\u003e\n      \u003cth\u003e\u003c/th\u003e\n      \u003cth\u003entile10\u003c/th\u003e\n      \u003cth\u003enuovi_positivi_min\u003c/th\u003e\n      \u003cth\u003enuovi_positivi_max\u003c/th\u003e\n      \u003cth\u003enuovi_positivi_avg\u003c/th\u003e\n      \u003cth\u003enuovi_positivi_sum\u003c/th\u003e\n      \u003cth\u003enuovi_positivi_stddev\u003c/th\u003e\n      \u003cth\u003ecount\u003c/th\u003e\n    \u003c/tr\u003e\n  \u003c/thead\u003e\n  \u003ctbody\u003e\n    \u003ctr\u003e\n      \u003cth\u003e0\u003c/th\u003e\n      \u003ctd\u003e1\u003c/td\u003e\n      \u003ctd\u003e78\u003c/td\u003e\n      \u003ctd\u003e451\u003c/td\u003e\n      \u003ctd\u003e253.000000\u003c/td\u003e\n      \u003ctd\u003e21252\u003c/td\u003e\n      \u003ctd\u003e84.220022\u003c/td\u003e\n      \u003ctd\u003e84\u003c/td\u003e\n    \u003c/tr\u003e\n    \u003ctr\u003e\n      \u003cth\u003e1\u003c/th\u003e\n      \u003ctd\u003e2\u003c/td\u003e\n      \u003ctd\u003e463\u003c/td\u003e\n      \u003ctd\u003e1397\u003c/td\u003e\n      \u003ctd\u003e918.452381\u003c/td\u003e\n      \u003ctd\u003e77150\u003c/td\u003e\n      \u003ctd\u003e294.270362\u003c/td\u003e\n      \u003ctd\u003e84\u003c/td\u003e\n    \u003c/tr\u003e\n    \u003ctr\u003e\n      \u003cth\u003e2\u003c/th\u003e\n      \u003ctd\u003e3\u003c/td\u003e\n      \u003ctd\u003e1400\u003c/td\u003e\n      \u003ctd\u003e2818\u003c/td\u003e\n      \u003ctd\u003e2035.096386\u003c/td\u003e\n      \u003ctd\u003e168913\u003c/td\u003e\n      \u003ctd\u003e456.517374\u003c/td\u003e\n      \u003ctd\u003e83\u003c/td\u003e\n    \u003c/tr\u003e\n    \u003ctr\u003e\n      \u003cth\u003e3\u003c/th\u003e\n      \u003ctd\u003e4\u003c/td\u003e\n      \u003ctd\u003e2834\u003c/td\u003e\n      \u003ctd\u003e4717\u003c/td\u003e\n      \u003ctd\u003e3713.726190\u003c/td\u003e\n      \u003ctd\u003e311953\u003c/td\u003e\n      \u003ctd\u003e554.433464\u003c/td\u003e\n      \u003ctd\u003e84\u003c/td\u003e\n    \u003c/tr\u003e\n    \u003ctr\u003e\n      \u003cth\u003e4\u003c/th\u003e\n      \u003ctd\u003e5\u003c/td\u003e\n      \u003ctd\u003e4720\u003c/td\u003e\n      \u003ctd\u003e7537\u003c/td\u003e\n      \u003ctd\u003e5963.337349\u003c/td\u003e\n      \u003ctd\u003e494957\u003c/td\u003e\n      \u003ctd\u003e817.652847\u003c/td\u003e\n      \u003ctd\u003e83\u003c/td\u003e\n    \u003c/tr\u003e\n  \u003c/tbody\u003e\n\u003c/table\u003e\n\u003c/div\u003e"
          },
          "metadata": {}
        }
      ]
    },
    {
      "execution_count": 20,
      "cell_type": "code",
      "metadata": {},
      "source": [
        "int(df[\u0027nuovi_positivi_min\u0027][df[\u0027ntile10\u0027] \u003d\u003d 1])"
      ],
      "outputs": [
        {
          "output_type": "execute_result",
          "execution_count": 20,
          "data": {
            "text/plain": "78"
          },
          "metadata": {}
        }
      ]
    },
    {
      "execution_count": 21,
      "cell_type": "code",
      "metadata": {},
      "source": [
        "range(int(df[\u0027nuovi_positivi_min\u0027][df[\u0027ntile10\u0027] \u003d\u003d 1]), int(df[\u0027nuovi_positivi_max\u0027][df[\u0027ntile10\u0027] \u003d\u003d 1]))"
      ],
      "outputs": [
        {
          "output_type": "execute_result",
          "execution_count": 21,
          "data": {
            "text/plain": "range(78, 451)"
          },
          "metadata": {}
        }
      ]
    },
    {
      "execution_count": 27,
      "cell_type": "code",
      "metadata": {},
      "source": [
        "for num in range(1,11):\n    print(range(int(df[\u0027nuovi_positivi_min\u0027][df[\u0027ntile10\u0027] \u003d\u003d num]), int(df[\u0027nuovi_positivi_max\u0027][df[\u0027ntile10\u0027] \u003d\u003d n])))"
      ],
      "outputs": [
        {
          "output_type": "stream",
          "text": "1\n2\n3\n4\n5\n6\n7\n8\n9\n10\n",
          "name": "stdout"
        }
      ]
    },
    {
      "execution_count": 22,
      "cell_type": "code",
      "metadata": {},
      "source": [
        "variables[\"standard\"][\u0027n1\u0027] \u003d range(int(df[\u0027nuovi_positivi_min\u0027][df[\u0027ntile10\u0027] \u003d\u003d 1]), int(df[\u0027nuovi_positivi_max\u0027][df[\u0027ntile10\u0027] \u003d\u003d 1]))"
      ],
      "outputs": []
    },
    {
      "execution_count": 23,
      "cell_type": "code",
      "metadata": {},
      "source": [
        "variables[\"standard\"][\u0027n1\u0027]"
      ],
      "outputs": [
        {
          "output_type": "execute_result",
          "execution_count": 23,
          "data": {
            "text/plain": "range(78, 451)"
          },
          "metadata": {}
        }
      ]
    },
    {
      "execution_count": 25,
      "cell_type": "code",
      "metadata": {},
      "source": [
        "79 in variables[\"standard\"][\u0027n1\u0027]"
      ],
      "outputs": [
        {
          "output_type": "execute_result",
          "execution_count": 25,
          "data": {
            "text/plain": "True"
          },
          "metadata": {}
        }
      ]
    },
    {
      "execution_count": 0,
      "cell_type": "code",
      "metadata": {},
      "source": [
        "# Create a list of currently existing global/project variables to test if our length_list has been set.\nglobal_check \u003d list(variables[\u0027standard\u0027].keys())"
      ],
      "outputs": []
    },
    {
      "execution_count": 0,
      "cell_type": "code",
      "metadata": {},
      "source": [
        "# Testing to see if the length_list global/project variable exists.\n# If it does not, it will be created.\nif \u0027length_list\u0027 not in global_check:\n    length_list \u003d len(file_list)\n    variables[\u0027standard\u0027] \u003d {\"length_list\" : length_list}\n    proj.set_variables(variables)\n\n# If it does exist, the code continues running to the next step.\nelse:\n    continue"
      ],
      "outputs": []
    },
    {
      "execution_count": 0,
      "cell_type": "code",
      "metadata": {},
      "source": [
        "# Create variables that we\u0027ll use to test the file list length.\ncurrent_length_list \u003d len(file_list)\nvar_length_list \u003d int(dataiku.get_custom_variables().get(\"length_list\"))\nt \u003d Trigger()"
      ],
      "outputs": []
    },
    {
      "execution_count": 0,
      "cell_type": "code",
      "metadata": {},
      "source": [
        "# For loop to check if the trigger file name already exists in the Managed folder.\n# Once the trigger file is added (in this example \"trigger_file.txt\"),\n# the count variables keep the scenario from running indefinitely.\nfor file in file_list:\n    if current_length_list \u003e var_length_list and file \u003d\u003d \u0027/trigger_file.txt\u0027:\n        t.fire()"
      ],
      "outputs": []
    },
    {
      "execution_count": 0,
      "cell_type": "code",
      "metadata": {},
      "source": [
        "# Now we reset the results as DSS Global/Project variables.\nvariables[\u0027standard\u0027] \u003d {\"length_list\" : current_length_list}\nproj.set_variables(variables)"
      ],
      "outputs": []
    }
  ]
}