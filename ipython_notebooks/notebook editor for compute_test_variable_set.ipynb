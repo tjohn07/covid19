{
  "nbformat": 4,
  "nbformat_minor": 0,
  "metadata": {
    "kernelspec": {
      "display_name": "Python (env python37_holidays)",
      "language": "python",
      "name": "py-dku-venv-python37_holidays"
    },
    "associatedRecipe": "compute_test_variable_set",
    "creator": "admin",
    "createdOn": 1654709825699,
    "tags": [
      "recipe-editor"
    ],
    "customFields": {}
  },
  "cells": [
    {
      "cell_type": "code",
      "metadata": {},
      "outputs": [],
      "execution_count": 0,
      "source": [
        "# -*- coding: utf-8 -*-\n",
        "import dataiku\n",
        "import pandas as pd, numpy as np\n",
        "from dataiku import pandasutils as pdu\n",
        "\n",
        "\n",
        "\n",
        "from dataiku.scenario import Trigger\n",
        "import dataiku\n",
        "\n",
        "# Accessing the DSS Global/Project Variables\n",
        "proj \u003d dataiku.Project()\n",
        "variables \u003d proj.get_variables()\n",
        "\n",
        "# Create a list of current files in the managed folder.\n",
        "file_list \u003d test_folder.list_paths_in_partition()\n",
        "\n",
        "# Create a list of currently existing global/project variables to test if our length_list has been set.\n",
        "global_check \u003d list(variables[\u0027standard\u0027].keys())\n",
        "\n",
        "# Testing to see if the length_list global/project variable exists.\n",
        "# If it does not, it will be created.\n",
        "if \u0027length_list\u0027 not in global_check:\n",
        "    length_list \u003d len(file_list)\n",
        "    variables[\u0027standard\u0027] \u003d {\"length_list\" : length_list}\n",
        "    proj.set_variables(variables)\n",
        "\n",
        "# If it does exist, the code continues running to the next step.\n",
        "else:\n",
        "    continue\n",
        "\n",
        "# Create variables that we\u0027ll use to test the file list length.\n",
        "current_length_list \u003d len(file_list)\n",
        "var_length_list \u003d int(dataiku.get_custom_variables().get(\"length_list\"))\n",
        "t \u003d Trigger()\n",
        "\n",
        "# For loop to check if the trigger file name already exists in the Managed folder.\n",
        "# Once the trigger file is added (in this example \"trigger_file.txt\"),\n",
        "# the count variables keep the scenario from running indefinitely.\n",
        "for file in file_list:\n",
        "    if current_length_list \u003e var_length_list and file \u003d\u003d \u0027/trigger_file.txt\u0027:\n",
        "        t.fire()\n",
        "\n",
        "# Now we reset the results as DSS Global/Project variables.\n",
        "variables[\u0027standard\u0027] \u003d {\"length_list\" : current_length_list}\n",
        "proj.set_variables(variables)"
      ]
    }
  ]
}