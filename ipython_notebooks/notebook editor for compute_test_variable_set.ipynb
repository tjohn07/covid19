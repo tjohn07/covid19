{
  "metadata": {
    "kernelspec": {
      "name": "py-dku-venv-python37_holidays",
      "display_name": "Python (env python37_holidays)",
      "language": "python"
    },
    "associatedRecipe": "compute_test_variable_set",
    "creator": "admin",
    "createdOn": 1654709825699,
    "tags": [
      "recipe-editor"
    ],
    "customFields": {},
    "hide_input": false,
    "language_info": {
      "name": "python",
      "version": "3.7.9",
      "mimetype": "text/x-python",
      "codemirror_mode": {
        "name": "ipython",
        "version": 3
      },
      "pygments_lexer": "ipython3",
      "nbconvert_exporter": "python",
      "file_extension": ".py"
    },
    "modifiedBy": "admin"
  },
  "nbformat": 4,
  "nbformat_minor": 1,
  "cells": [
    {
      "execution_count": 1,
      "cell_type": "code",
      "metadata": {},
      "source": [
        "# -*- coding: utf-8 -*-\nimport dataiku\nimport pandas as pd, numpy as np\nfrom dataiku import pandasutils as pdu\nfrom dataiku.scenario import Trigger\n\n\n# Accessing the DSS Global/Project Variables\nproj \u003d dataiku.Project()\nvariables \u003d proj.get_variables()"
      ],
      "outputs": []
    },
    {
      "execution_count": 10,
      "cell_type": "code",
      "metadata": {},
      "source": [
        "dpc_dataset \u003d dataiku.Dataset(\"dpc_covid19_prepared_windows_by_ntile10\")\n"
      ],
      "outputs": []
    },
    {
      "execution_count": 0,
      "cell_type": "code",
      "metadata": {},
      "source": [
        "dataiku."
      ],
      "outputs": []
    },
    {
      "execution_count": 5,
      "cell_type": "code",
      "metadata": {},
      "source": [
        "variables[\"standard\"][\u0027n1\u0027] \u003d range(1,23)"
      ],
      "outputs": []
    },
    {
      "execution_count": 6,
      "cell_type": "code",
      "metadata": {},
      "source": [
        "variables[\"standard\"][\u0027n1\u0027]"
      ],
      "outputs": [
        {
          "output_type": "execute_result",
          "execution_count": 6,
          "data": {
            "text/plain": "range(1, 23)"
          },
          "metadata": {}
        }
      ]
    },
    {
      "execution_count": 8,
      "cell_type": "code",
      "metadata": {},
      "source": [
        "33 in variables[\"standard\"][\u0027n1\u0027]"
      ],
      "outputs": [
        {
          "output_type": "execute_result",
          "execution_count": 8,
          "data": {
            "text/plain": "False"
          },
          "metadata": {}
        }
      ]
    },
    {
      "execution_count": 0,
      "cell_type": "code",
      "metadata": {},
      "source": [
        "# Create a list of currently existing global/project variables to test if our length_list has been set.\nglobal_check \u003d list(variables[\u0027standard\u0027].keys())"
      ],
      "outputs": []
    },
    {
      "execution_count": 0,
      "cell_type": "code",
      "metadata": {},
      "source": [
        "# Testing to see if the length_list global/project variable exists.\n# If it does not, it will be created.\nif \u0027length_list\u0027 not in global_check:\n    length_list \u003d len(file_list)\n    variables[\u0027standard\u0027] \u003d {\"length_list\" : length_list}\n    proj.set_variables(variables)\n\n# If it does exist, the code continues running to the next step.\nelse:\n    continue"
      ],
      "outputs": []
    },
    {
      "execution_count": 0,
      "cell_type": "code",
      "metadata": {},
      "source": [
        "# Create variables that we\u0027ll use to test the file list length.\ncurrent_length_list \u003d len(file_list)\nvar_length_list \u003d int(dataiku.get_custom_variables().get(\"length_list\"))\nt \u003d Trigger()"
      ],
      "outputs": []
    },
    {
      "execution_count": 0,
      "cell_type": "code",
      "metadata": {},
      "source": [
        "# For loop to check if the trigger file name already exists in the Managed folder.\n# Once the trigger file is added (in this example \"trigger_file.txt\"),\n# the count variables keep the scenario from running indefinitely.\nfor file in file_list:\n    if current_length_list \u003e var_length_list and file \u003d\u003d \u0027/trigger_file.txt\u0027:\n        t.fire()"
      ],
      "outputs": []
    },
    {
      "execution_count": 0,
      "cell_type": "code",
      "metadata": {},
      "source": [
        "# Now we reset the results as DSS Global/Project variables.\nvariables[\u0027standard\u0027] \u003d {\"length_list\" : current_length_list}\nproj.set_variables(variables)"
      ],
      "outputs": []
    }
  ]
}